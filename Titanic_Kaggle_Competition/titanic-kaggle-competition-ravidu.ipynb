{
 "cells": [
  {
   "cell_type": "code",
   "execution_count": 1,
   "id": "metallic-stuff",
   "metadata": {
    "execution": {
     "iopub.execute_input": "2021-06-11T05:30:28.147384Z",
     "iopub.status.busy": "2021-06-11T05:30:28.146639Z",
     "iopub.status.idle": "2021-06-11T05:30:29.643926Z",
     "shell.execute_reply": "2021-06-11T05:30:29.642860Z",
     "shell.execute_reply.started": "2021-06-11T04:14:45.364286Z"
    },
    "papermill": {
     "duration": 1.562337,
     "end_time": "2021-06-11T05:30:29.644103",
     "exception": false,
     "start_time": "2021-06-11T05:30:28.081766",
     "status": "completed"
    },
    "tags": []
   },
   "outputs": [],
   "source": [
    "import pandas as pd\n",
    "import numpy as np\n",
    "import random as rnd\n",
    "import seaborn as sns\n",
    "import matplotlib.pyplot as plt\n",
    "%matplotlib inline\n",
    "\n",
    "# ML Algorithms\n",
    "\n",
    "from sklearn.ensemble import RandomForestClassifier\n",
    "from sklearn.tree import DecisionTreeClassifier\n",
    "from xgboost import XGBClassifier"
   ]
  },
  {
   "cell_type": "code",
   "execution_count": 2,
   "id": "thrown-preliminary",
   "metadata": {
    "execution": {
     "iopub.execute_input": "2021-06-11T05:30:29.752167Z",
     "iopub.status.busy": "2021-06-11T05:30:29.751532Z",
     "iopub.status.idle": "2021-06-11T05:30:29.779508Z",
     "shell.execute_reply": "2021-06-11T05:30:29.778869Z",
     "shell.execute_reply.started": "2021-06-11T04:14:45.374847Z"
    },
    "papermill": {
     "duration": 0.083533,
     "end_time": "2021-06-11T05:30:29.779653",
     "exception": false,
     "start_time": "2021-06-11T05:30:29.696120",
     "status": "completed"
    },
    "tags": []
   },
   "outputs": [],
   "source": [
    "train_split_df = pd.read_csv('../input/titanic/train.csv')\n",
    "test_split_df = pd.read_csv('../input/titanic/test.csv')"
   ]
  },
  {
   "cell_type": "markdown",
   "id": "random-delivery",
   "metadata": {
    "papermill": {
     "duration": 0.050854,
     "end_time": "2021-06-11T05:30:29.881394",
     "exception": false,
     "start_time": "2021-06-11T05:30:29.830540",
     "status": "completed"
    },
    "tags": []
   },
   "source": [
    "# Data Visual Analysis"
   ]
  },
  {
   "cell_type": "code",
   "execution_count": 3,
   "id": "private-latvia",
   "metadata": {
    "execution": {
     "iopub.execute_input": "2021-06-11T05:30:29.986475Z",
     "iopub.status.busy": "2021-06-11T05:30:29.985835Z",
     "iopub.status.idle": "2021-06-11T05:30:30.021922Z",
     "shell.execute_reply": "2021-06-11T05:30:30.021249Z",
     "shell.execute_reply.started": "2021-06-11T04:14:45.413820Z"
    },
    "papermill": {
     "duration": 0.09028,
     "end_time": "2021-06-11T05:30:30.022080",
     "exception": false,
     "start_time": "2021-06-11T05:30:29.931800",
     "status": "completed"
    },
    "tags": []
   },
   "outputs": [
    {
     "data": {
      "text/html": [
       "<div>\n",
       "<style scoped>\n",
       "    .dataframe tbody tr th:only-of-type {\n",
       "        vertical-align: middle;\n",
       "    }\n",
       "\n",
       "    .dataframe tbody tr th {\n",
       "        vertical-align: top;\n",
       "    }\n",
       "\n",
       "    .dataframe thead th {\n",
       "        text-align: right;\n",
       "    }\n",
       "</style>\n",
       "<table border=\"1\" class=\"dataframe\">\n",
       "  <thead>\n",
       "    <tr style=\"text-align: right;\">\n",
       "      <th></th>\n",
       "      <th>PassengerId</th>\n",
       "      <th>Survived</th>\n",
       "      <th>Pclass</th>\n",
       "      <th>Name</th>\n",
       "      <th>Sex</th>\n",
       "      <th>Age</th>\n",
       "      <th>SibSp</th>\n",
       "      <th>Parch</th>\n",
       "      <th>Ticket</th>\n",
       "      <th>Fare</th>\n",
       "      <th>Cabin</th>\n",
       "      <th>Embarked</th>\n",
       "    </tr>\n",
       "  </thead>\n",
       "  <tbody>\n",
       "    <tr>\n",
       "      <th>0</th>\n",
       "      <td>1</td>\n",
       "      <td>0</td>\n",
       "      <td>3</td>\n",
       "      <td>Braund, Mr. Owen Harris</td>\n",
       "      <td>male</td>\n",
       "      <td>22.0</td>\n",
       "      <td>1</td>\n",
       "      <td>0</td>\n",
       "      <td>A/5 21171</td>\n",
       "      <td>7.2500</td>\n",
       "      <td>NaN</td>\n",
       "      <td>S</td>\n",
       "    </tr>\n",
       "    <tr>\n",
       "      <th>1</th>\n",
       "      <td>2</td>\n",
       "      <td>1</td>\n",
       "      <td>1</td>\n",
       "      <td>Cumings, Mrs. John Bradley (Florence Briggs Th...</td>\n",
       "      <td>female</td>\n",
       "      <td>38.0</td>\n",
       "      <td>1</td>\n",
       "      <td>0</td>\n",
       "      <td>PC 17599</td>\n",
       "      <td>71.2833</td>\n",
       "      <td>C85</td>\n",
       "      <td>C</td>\n",
       "    </tr>\n",
       "    <tr>\n",
       "      <th>2</th>\n",
       "      <td>3</td>\n",
       "      <td>1</td>\n",
       "      <td>3</td>\n",
       "      <td>Heikkinen, Miss. Laina</td>\n",
       "      <td>female</td>\n",
       "      <td>26.0</td>\n",
       "      <td>0</td>\n",
       "      <td>0</td>\n",
       "      <td>STON/O2. 3101282</td>\n",
       "      <td>7.9250</td>\n",
       "      <td>NaN</td>\n",
       "      <td>S</td>\n",
       "    </tr>\n",
       "    <tr>\n",
       "      <th>3</th>\n",
       "      <td>4</td>\n",
       "      <td>1</td>\n",
       "      <td>1</td>\n",
       "      <td>Futrelle, Mrs. Jacques Heath (Lily May Peel)</td>\n",
       "      <td>female</td>\n",
       "      <td>35.0</td>\n",
       "      <td>1</td>\n",
       "      <td>0</td>\n",
       "      <td>113803</td>\n",
       "      <td>53.1000</td>\n",
       "      <td>C123</td>\n",
       "      <td>S</td>\n",
       "    </tr>\n",
       "    <tr>\n",
       "      <th>4</th>\n",
       "      <td>5</td>\n",
       "      <td>0</td>\n",
       "      <td>3</td>\n",
       "      <td>Allen, Mr. William Henry</td>\n",
       "      <td>male</td>\n",
       "      <td>35.0</td>\n",
       "      <td>0</td>\n",
       "      <td>0</td>\n",
       "      <td>373450</td>\n",
       "      <td>8.0500</td>\n",
       "      <td>NaN</td>\n",
       "      <td>S</td>\n",
       "    </tr>\n",
       "  </tbody>\n",
       "</table>\n",
       "</div>"
      ],
      "text/plain": [
       "   PassengerId  Survived  Pclass  \\\n",
       "0            1         0       3   \n",
       "1            2         1       1   \n",
       "2            3         1       3   \n",
       "3            4         1       1   \n",
       "4            5         0       3   \n",
       "\n",
       "                                                Name     Sex   Age  SibSp  \\\n",
       "0                            Braund, Mr. Owen Harris    male  22.0      1   \n",
       "1  Cumings, Mrs. John Bradley (Florence Briggs Th...  female  38.0      1   \n",
       "2                             Heikkinen, Miss. Laina  female  26.0      0   \n",
       "3       Futrelle, Mrs. Jacques Heath (Lily May Peel)  female  35.0      1   \n",
       "4                           Allen, Mr. William Henry    male  35.0      0   \n",
       "\n",
       "   Parch            Ticket     Fare Cabin Embarked  \n",
       "0      0         A/5 21171   7.2500   NaN        S  \n",
       "1      0          PC 17599  71.2833   C85        C  \n",
       "2      0  STON/O2. 3101282   7.9250   NaN        S  \n",
       "3      0            113803  53.1000  C123        S  \n",
       "4      0            373450   8.0500   NaN        S  "
      ]
     },
     "execution_count": 3,
     "metadata": {},
     "output_type": "execute_result"
    }
   ],
   "source": [
    "train_split_df.head()"
   ]
  },
  {
   "cell_type": "code",
   "execution_count": 4,
   "id": "returning-september",
   "metadata": {
    "execution": {
     "iopub.execute_input": "2021-06-11T05:30:30.145379Z",
     "iopub.status.busy": "2021-06-11T05:30:30.144438Z",
     "iopub.status.idle": "2021-06-11T05:30:30.147788Z",
     "shell.execute_reply": "2021-06-11T05:30:30.148296Z",
     "shell.execute_reply.started": "2021-06-11T04:14:45.433450Z"
    },
    "papermill": {
     "duration": 0.074001,
     "end_time": "2021-06-11T05:30:30.148509",
     "exception": false,
     "start_time": "2021-06-11T05:30:30.074508",
     "status": "completed"
    },
    "tags": []
   },
   "outputs": [
    {
     "data": {
      "text/html": [
       "<div>\n",
       "<style scoped>\n",
       "    .dataframe tbody tr th:only-of-type {\n",
       "        vertical-align: middle;\n",
       "    }\n",
       "\n",
       "    .dataframe tbody tr th {\n",
       "        vertical-align: top;\n",
       "    }\n",
       "\n",
       "    .dataframe thead th {\n",
       "        text-align: right;\n",
       "    }\n",
       "</style>\n",
       "<table border=\"1\" class=\"dataframe\">\n",
       "  <thead>\n",
       "    <tr style=\"text-align: right;\">\n",
       "      <th></th>\n",
       "      <th>PassengerId</th>\n",
       "      <th>Pclass</th>\n",
       "      <th>Name</th>\n",
       "      <th>Sex</th>\n",
       "      <th>Age</th>\n",
       "      <th>SibSp</th>\n",
       "      <th>Parch</th>\n",
       "      <th>Ticket</th>\n",
       "      <th>Fare</th>\n",
       "      <th>Cabin</th>\n",
       "      <th>Embarked</th>\n",
       "    </tr>\n",
       "  </thead>\n",
       "  <tbody>\n",
       "    <tr>\n",
       "      <th>0</th>\n",
       "      <td>892</td>\n",
       "      <td>3</td>\n",
       "      <td>Kelly, Mr. James</td>\n",
       "      <td>male</td>\n",
       "      <td>34.5</td>\n",
       "      <td>0</td>\n",
       "      <td>0</td>\n",
       "      <td>330911</td>\n",
       "      <td>7.8292</td>\n",
       "      <td>NaN</td>\n",
       "      <td>Q</td>\n",
       "    </tr>\n",
       "    <tr>\n",
       "      <th>1</th>\n",
       "      <td>893</td>\n",
       "      <td>3</td>\n",
       "      <td>Wilkes, Mrs. James (Ellen Needs)</td>\n",
       "      <td>female</td>\n",
       "      <td>47.0</td>\n",
       "      <td>1</td>\n",
       "      <td>0</td>\n",
       "      <td>363272</td>\n",
       "      <td>7.0000</td>\n",
       "      <td>NaN</td>\n",
       "      <td>S</td>\n",
       "    </tr>\n",
       "    <tr>\n",
       "      <th>2</th>\n",
       "      <td>894</td>\n",
       "      <td>2</td>\n",
       "      <td>Myles, Mr. Thomas Francis</td>\n",
       "      <td>male</td>\n",
       "      <td>62.0</td>\n",
       "      <td>0</td>\n",
       "      <td>0</td>\n",
       "      <td>240276</td>\n",
       "      <td>9.6875</td>\n",
       "      <td>NaN</td>\n",
       "      <td>Q</td>\n",
       "    </tr>\n",
       "    <tr>\n",
       "      <th>3</th>\n",
       "      <td>895</td>\n",
       "      <td>3</td>\n",
       "      <td>Wirz, Mr. Albert</td>\n",
       "      <td>male</td>\n",
       "      <td>27.0</td>\n",
       "      <td>0</td>\n",
       "      <td>0</td>\n",
       "      <td>315154</td>\n",
       "      <td>8.6625</td>\n",
       "      <td>NaN</td>\n",
       "      <td>S</td>\n",
       "    </tr>\n",
       "    <tr>\n",
       "      <th>4</th>\n",
       "      <td>896</td>\n",
       "      <td>3</td>\n",
       "      <td>Hirvonen, Mrs. Alexander (Helga E Lindqvist)</td>\n",
       "      <td>female</td>\n",
       "      <td>22.0</td>\n",
       "      <td>1</td>\n",
       "      <td>1</td>\n",
       "      <td>3101298</td>\n",
       "      <td>12.2875</td>\n",
       "      <td>NaN</td>\n",
       "      <td>S</td>\n",
       "    </tr>\n",
       "  </tbody>\n",
       "</table>\n",
       "</div>"
      ],
      "text/plain": [
       "   PassengerId  Pclass                                          Name     Sex  \\\n",
       "0          892       3                              Kelly, Mr. James    male   \n",
       "1          893       3              Wilkes, Mrs. James (Ellen Needs)  female   \n",
       "2          894       2                     Myles, Mr. Thomas Francis    male   \n",
       "3          895       3                              Wirz, Mr. Albert    male   \n",
       "4          896       3  Hirvonen, Mrs. Alexander (Helga E Lindqvist)  female   \n",
       "\n",
       "    Age  SibSp  Parch   Ticket     Fare Cabin Embarked  \n",
       "0  34.5      0      0   330911   7.8292   NaN        Q  \n",
       "1  47.0      1      0   363272   7.0000   NaN        S  \n",
       "2  62.0      0      0   240276   9.6875   NaN        Q  \n",
       "3  27.0      0      0   315154   8.6625   NaN        S  \n",
       "4  22.0      1      1  3101298  12.2875   NaN        S  "
      ]
     },
     "execution_count": 4,
     "metadata": {},
     "output_type": "execute_result"
    }
   ],
   "source": [
    "test_split_df.head()"
   ]
  },
  {
   "cell_type": "code",
   "execution_count": 5,
   "id": "confused-percentage",
   "metadata": {
    "execution": {
     "iopub.execute_input": "2021-06-11T05:30:30.281912Z",
     "iopub.status.busy": "2021-06-11T05:30:30.280778Z",
     "iopub.status.idle": "2021-06-11T05:30:30.285659Z",
     "shell.execute_reply": "2021-06-11T05:30:30.286205Z",
     "shell.execute_reply.started": "2021-06-11T04:14:45.460916Z"
    },
    "papermill": {
     "duration": 0.079826,
     "end_time": "2021-06-11T05:30:30.286406",
     "exception": false,
     "start_time": "2021-06-11T05:30:30.206580",
     "status": "completed"
    },
    "tags": []
   },
   "outputs": [
    {
     "name": "stdout",
     "output_type": "stream",
     "text": [
      "<class 'pandas.core.frame.DataFrame'>\n",
      "RangeIndex: 891 entries, 0 to 890\n",
      "Data columns (total 12 columns):\n",
      " #   Column       Non-Null Count  Dtype  \n",
      "---  ------       --------------  -----  \n",
      " 0   PassengerId  891 non-null    int64  \n",
      " 1   Survived     891 non-null    int64  \n",
      " 2   Pclass       891 non-null    int64  \n",
      " 3   Name         891 non-null    object \n",
      " 4   Sex          891 non-null    object \n",
      " 5   Age          714 non-null    float64\n",
      " 6   SibSp        891 non-null    int64  \n",
      " 7   Parch        891 non-null    int64  \n",
      " 8   Ticket       891 non-null    object \n",
      " 9   Fare         891 non-null    float64\n",
      " 10  Cabin        204 non-null    object \n",
      " 11  Embarked     889 non-null    object \n",
      "dtypes: float64(2), int64(5), object(5)\n",
      "memory usage: 83.7+ KB\n"
     ]
    }
   ],
   "source": [
    "train_split_df.info()"
   ]
  },
  {
   "cell_type": "code",
   "execution_count": 6,
   "id": "breathing-assumption",
   "metadata": {
    "execution": {
     "iopub.execute_input": "2021-06-11T05:30:30.411005Z",
     "iopub.status.busy": "2021-06-11T05:30:30.405711Z",
     "iopub.status.idle": "2021-06-11T05:30:30.415513Z",
     "shell.execute_reply": "2021-06-11T05:30:30.414830Z",
     "shell.execute_reply.started": "2021-06-11T04:14:45.478355Z"
    },
    "papermill": {
     "duration": 0.072185,
     "end_time": "2021-06-11T05:30:30.415663",
     "exception": false,
     "start_time": "2021-06-11T05:30:30.343478",
     "status": "completed"
    },
    "tags": []
   },
   "outputs": [
    {
     "name": "stdout",
     "output_type": "stream",
     "text": [
      "<class 'pandas.core.frame.DataFrame'>\n",
      "RangeIndex: 418 entries, 0 to 417\n",
      "Data columns (total 11 columns):\n",
      " #   Column       Non-Null Count  Dtype  \n",
      "---  ------       --------------  -----  \n",
      " 0   PassengerId  418 non-null    int64  \n",
      " 1   Pclass       418 non-null    int64  \n",
      " 2   Name         418 non-null    object \n",
      " 3   Sex          418 non-null    object \n",
      " 4   Age          332 non-null    float64\n",
      " 5   SibSp        418 non-null    int64  \n",
      " 6   Parch        418 non-null    int64  \n",
      " 7   Ticket       418 non-null    object \n",
      " 8   Fare         417 non-null    float64\n",
      " 9   Cabin        91 non-null     object \n",
      " 10  Embarked     418 non-null    object \n",
      "dtypes: float64(2), int64(4), object(5)\n",
      "memory usage: 36.0+ KB\n"
     ]
    }
   ],
   "source": [
    "test_split_df.info()"
   ]
  },
  {
   "cell_type": "code",
   "execution_count": 7,
   "id": "acknowledged-studio",
   "metadata": {
    "execution": {
     "iopub.execute_input": "2021-06-11T05:30:30.535679Z",
     "iopub.status.busy": "2021-06-11T05:30:30.534988Z",
     "iopub.status.idle": "2021-06-11T05:30:30.570345Z",
     "shell.execute_reply": "2021-06-11T05:30:30.570864Z",
     "shell.execute_reply.started": "2021-06-11T04:14:45.499352Z"
    },
    "papermill": {
     "duration": 0.097873,
     "end_time": "2021-06-11T05:30:30.571037",
     "exception": false,
     "start_time": "2021-06-11T05:30:30.473164",
     "status": "completed"
    },
    "tags": []
   },
   "outputs": [
    {
     "data": {
      "text/html": [
       "<div>\n",
       "<style scoped>\n",
       "    .dataframe tbody tr th:only-of-type {\n",
       "        vertical-align: middle;\n",
       "    }\n",
       "\n",
       "    .dataframe tbody tr th {\n",
       "        vertical-align: top;\n",
       "    }\n",
       "\n",
       "    .dataframe thead th {\n",
       "        text-align: right;\n",
       "    }\n",
       "</style>\n",
       "<table border=\"1\" class=\"dataframe\">\n",
       "  <thead>\n",
       "    <tr style=\"text-align: right;\">\n",
       "      <th></th>\n",
       "      <th>PassengerId</th>\n",
       "      <th>Survived</th>\n",
       "      <th>Pclass</th>\n",
       "      <th>Age</th>\n",
       "      <th>SibSp</th>\n",
       "      <th>Parch</th>\n",
       "      <th>Fare</th>\n",
       "    </tr>\n",
       "  </thead>\n",
       "  <tbody>\n",
       "    <tr>\n",
       "      <th>count</th>\n",
       "      <td>891.000000</td>\n",
       "      <td>891.000000</td>\n",
       "      <td>891.000000</td>\n",
       "      <td>714.000000</td>\n",
       "      <td>891.000000</td>\n",
       "      <td>891.000000</td>\n",
       "      <td>891.000000</td>\n",
       "    </tr>\n",
       "    <tr>\n",
       "      <th>mean</th>\n",
       "      <td>446.000000</td>\n",
       "      <td>0.383838</td>\n",
       "      <td>2.308642</td>\n",
       "      <td>29.699118</td>\n",
       "      <td>0.523008</td>\n",
       "      <td>0.381594</td>\n",
       "      <td>32.204208</td>\n",
       "    </tr>\n",
       "    <tr>\n",
       "      <th>std</th>\n",
       "      <td>257.353842</td>\n",
       "      <td>0.486592</td>\n",
       "      <td>0.836071</td>\n",
       "      <td>14.526497</td>\n",
       "      <td>1.102743</td>\n",
       "      <td>0.806057</td>\n",
       "      <td>49.693429</td>\n",
       "    </tr>\n",
       "    <tr>\n",
       "      <th>min</th>\n",
       "      <td>1.000000</td>\n",
       "      <td>0.000000</td>\n",
       "      <td>1.000000</td>\n",
       "      <td>0.420000</td>\n",
       "      <td>0.000000</td>\n",
       "      <td>0.000000</td>\n",
       "      <td>0.000000</td>\n",
       "    </tr>\n",
       "    <tr>\n",
       "      <th>25%</th>\n",
       "      <td>223.500000</td>\n",
       "      <td>0.000000</td>\n",
       "      <td>2.000000</td>\n",
       "      <td>20.125000</td>\n",
       "      <td>0.000000</td>\n",
       "      <td>0.000000</td>\n",
       "      <td>7.910400</td>\n",
       "    </tr>\n",
       "    <tr>\n",
       "      <th>50%</th>\n",
       "      <td>446.000000</td>\n",
       "      <td>0.000000</td>\n",
       "      <td>3.000000</td>\n",
       "      <td>28.000000</td>\n",
       "      <td>0.000000</td>\n",
       "      <td>0.000000</td>\n",
       "      <td>14.454200</td>\n",
       "    </tr>\n",
       "    <tr>\n",
       "      <th>75%</th>\n",
       "      <td>668.500000</td>\n",
       "      <td>1.000000</td>\n",
       "      <td>3.000000</td>\n",
       "      <td>38.000000</td>\n",
       "      <td>1.000000</td>\n",
       "      <td>0.000000</td>\n",
       "      <td>31.000000</td>\n",
       "    </tr>\n",
       "    <tr>\n",
       "      <th>max</th>\n",
       "      <td>891.000000</td>\n",
       "      <td>1.000000</td>\n",
       "      <td>3.000000</td>\n",
       "      <td>80.000000</td>\n",
       "      <td>8.000000</td>\n",
       "      <td>6.000000</td>\n",
       "      <td>512.329200</td>\n",
       "    </tr>\n",
       "  </tbody>\n",
       "</table>\n",
       "</div>"
      ],
      "text/plain": [
       "       PassengerId    Survived      Pclass         Age       SibSp  \\\n",
       "count   891.000000  891.000000  891.000000  714.000000  891.000000   \n",
       "mean    446.000000    0.383838    2.308642   29.699118    0.523008   \n",
       "std     257.353842    0.486592    0.836071   14.526497    1.102743   \n",
       "min       1.000000    0.000000    1.000000    0.420000    0.000000   \n",
       "25%     223.500000    0.000000    2.000000   20.125000    0.000000   \n",
       "50%     446.000000    0.000000    3.000000   28.000000    0.000000   \n",
       "75%     668.500000    1.000000    3.000000   38.000000    1.000000   \n",
       "max     891.000000    1.000000    3.000000   80.000000    8.000000   \n",
       "\n",
       "            Parch        Fare  \n",
       "count  891.000000  891.000000  \n",
       "mean     0.381594   32.204208  \n",
       "std      0.806057   49.693429  \n",
       "min      0.000000    0.000000  \n",
       "25%      0.000000    7.910400  \n",
       "50%      0.000000   14.454200  \n",
       "75%      0.000000   31.000000  \n",
       "max      6.000000  512.329200  "
      ]
     },
     "execution_count": 7,
     "metadata": {},
     "output_type": "execute_result"
    }
   ],
   "source": [
    "train_split_df.describe()"
   ]
  },
  {
   "cell_type": "markdown",
   "id": "empirical-glass",
   "metadata": {
    "papermill": {
     "duration": 0.052906,
     "end_time": "2021-06-11T05:30:30.677209",
     "exception": false,
     "start_time": "2021-06-11T05:30:30.624303",
     "status": "completed"
    },
    "tags": []
   },
   "source": [
    "## Relation between potential features and the Final outcome"
   ]
  },
  {
   "cell_type": "code",
   "execution_count": 8,
   "id": "mental-samoa",
   "metadata": {
    "execution": {
     "iopub.execute_input": "2021-06-11T05:30:30.788846Z",
     "iopub.status.busy": "2021-06-11T05:30:30.787919Z",
     "iopub.status.idle": "2021-06-11T05:30:30.791240Z",
     "shell.execute_reply": "2021-06-11T05:30:30.790604Z",
     "shell.execute_reply.started": "2021-06-11T04:14:45.543984Z"
    },
    "papermill": {
     "duration": 0.061365,
     "end_time": "2021-06-11T05:30:30.791393",
     "exception": false,
     "start_time": "2021-06-11T05:30:30.730028",
     "status": "completed"
    },
    "tags": []
   },
   "outputs": [],
   "source": [
    "def check_relation_to_survival(column_name, pred_column_name='Survived', data = train_split_df):\n",
    "    return train_split_df[[column_name, pred_column_name]].groupby(\n",
    "        [column_name], as_index=False\n",
    "    ).mean().sort_values(\n",
    "        by=pred_column_name, ascending=False)"
   ]
  },
  {
   "cell_type": "code",
   "execution_count": 9,
   "id": "blessed-mediterranean",
   "metadata": {
    "execution": {
     "iopub.execute_input": "2021-06-11T05:30:30.915556Z",
     "iopub.status.busy": "2021-06-11T05:30:30.911754Z",
     "iopub.status.idle": "2021-06-11T05:30:30.920559Z",
     "shell.execute_reply": "2021-06-11T05:30:30.920019Z",
     "shell.execute_reply.started": "2021-06-11T04:14:45.550462Z"
    },
    "papermill": {
     "duration": 0.074841,
     "end_time": "2021-06-11T05:30:30.920717",
     "exception": false,
     "start_time": "2021-06-11T05:30:30.845876",
     "status": "completed"
    },
    "tags": []
   },
   "outputs": [
    {
     "data": {
      "text/html": [
       "<div>\n",
       "<style scoped>\n",
       "    .dataframe tbody tr th:only-of-type {\n",
       "        vertical-align: middle;\n",
       "    }\n",
       "\n",
       "    .dataframe tbody tr th {\n",
       "        vertical-align: top;\n",
       "    }\n",
       "\n",
       "    .dataframe thead th {\n",
       "        text-align: right;\n",
       "    }\n",
       "</style>\n",
       "<table border=\"1\" class=\"dataframe\">\n",
       "  <thead>\n",
       "    <tr style=\"text-align: right;\">\n",
       "      <th></th>\n",
       "      <th>Pclass</th>\n",
       "      <th>Survived</th>\n",
       "    </tr>\n",
       "  </thead>\n",
       "  <tbody>\n",
       "    <tr>\n",
       "      <th>0</th>\n",
       "      <td>1</td>\n",
       "      <td>0.629630</td>\n",
       "    </tr>\n",
       "    <tr>\n",
       "      <th>1</th>\n",
       "      <td>2</td>\n",
       "      <td>0.472826</td>\n",
       "    </tr>\n",
       "    <tr>\n",
       "      <th>2</th>\n",
       "      <td>3</td>\n",
       "      <td>0.242363</td>\n",
       "    </tr>\n",
       "  </tbody>\n",
       "</table>\n",
       "</div>"
      ],
      "text/plain": [
       "   Pclass  Survived\n",
       "0       1  0.629630\n",
       "1       2  0.472826\n",
       "2       3  0.242363"
      ]
     },
     "execution_count": 9,
     "metadata": {},
     "output_type": "execute_result"
    }
   ],
   "source": [
    "check_relation_to_survival('Pclass')"
   ]
  },
  {
   "cell_type": "code",
   "execution_count": 10,
   "id": "induced-opposition",
   "metadata": {
    "execution": {
     "iopub.execute_input": "2021-06-11T05:30:31.037884Z",
     "iopub.status.busy": "2021-06-11T05:30:31.037211Z",
     "iopub.status.idle": "2021-06-11T05:30:31.049597Z",
     "shell.execute_reply": "2021-06-11T05:30:31.048989Z",
     "shell.execute_reply.started": "2021-06-11T04:14:45.575608Z"
    },
    "papermill": {
     "duration": 0.074101,
     "end_time": "2021-06-11T05:30:31.049748",
     "exception": false,
     "start_time": "2021-06-11T05:30:30.975647",
     "status": "completed"
    },
    "tags": []
   },
   "outputs": [
    {
     "data": {
      "text/html": [
       "<div>\n",
       "<style scoped>\n",
       "    .dataframe tbody tr th:only-of-type {\n",
       "        vertical-align: middle;\n",
       "    }\n",
       "\n",
       "    .dataframe tbody tr th {\n",
       "        vertical-align: top;\n",
       "    }\n",
       "\n",
       "    .dataframe thead th {\n",
       "        text-align: right;\n",
       "    }\n",
       "</style>\n",
       "<table border=\"1\" class=\"dataframe\">\n",
       "  <thead>\n",
       "    <tr style=\"text-align: right;\">\n",
       "      <th></th>\n",
       "      <th>Sex</th>\n",
       "      <th>Survived</th>\n",
       "    </tr>\n",
       "  </thead>\n",
       "  <tbody>\n",
       "    <tr>\n",
       "      <th>0</th>\n",
       "      <td>female</td>\n",
       "      <td>0.742038</td>\n",
       "    </tr>\n",
       "    <tr>\n",
       "      <th>1</th>\n",
       "      <td>male</td>\n",
       "      <td>0.188908</td>\n",
       "    </tr>\n",
       "  </tbody>\n",
       "</table>\n",
       "</div>"
      ],
      "text/plain": [
       "      Sex  Survived\n",
       "0  female  0.742038\n",
       "1    male  0.188908"
      ]
     },
     "execution_count": 10,
     "metadata": {},
     "output_type": "execute_result"
    }
   ],
   "source": [
    "check_relation_to_survival('Sex')"
   ]
  },
  {
   "cell_type": "code",
   "execution_count": 11,
   "id": "legendary-savings",
   "metadata": {
    "execution": {
     "iopub.execute_input": "2021-06-11T05:30:31.167157Z",
     "iopub.status.busy": "2021-06-11T05:30:31.165956Z",
     "iopub.status.idle": "2021-06-11T05:30:31.181378Z",
     "shell.execute_reply": "2021-06-11T05:30:31.181885Z",
     "shell.execute_reply.started": "2021-06-11T04:14:45.599946Z"
    },
    "papermill": {
     "duration": 0.077938,
     "end_time": "2021-06-11T05:30:31.182121",
     "exception": false,
     "start_time": "2021-06-11T05:30:31.104183",
     "status": "completed"
    },
    "tags": []
   },
   "outputs": [
    {
     "data": {
      "text/html": [
       "<div>\n",
       "<style scoped>\n",
       "    .dataframe tbody tr th:only-of-type {\n",
       "        vertical-align: middle;\n",
       "    }\n",
       "\n",
       "    .dataframe tbody tr th {\n",
       "        vertical-align: top;\n",
       "    }\n",
       "\n",
       "    .dataframe thead th {\n",
       "        text-align: right;\n",
       "    }\n",
       "</style>\n",
       "<table border=\"1\" class=\"dataframe\">\n",
       "  <thead>\n",
       "    <tr style=\"text-align: right;\">\n",
       "      <th></th>\n",
       "      <th>Cabin</th>\n",
       "      <th>Survived</th>\n",
       "    </tr>\n",
       "  </thead>\n",
       "  <tbody>\n",
       "    <tr>\n",
       "      <th>73</th>\n",
       "      <td>C62 C64</td>\n",
       "      <td>1.0</td>\n",
       "    </tr>\n",
       "    <tr>\n",
       "      <th>97</th>\n",
       "      <td>D21</td>\n",
       "      <td>1.0</td>\n",
       "    </tr>\n",
       "    <tr>\n",
       "      <th>94</th>\n",
       "      <td>D17</td>\n",
       "      <td>1.0</td>\n",
       "    </tr>\n",
       "    <tr>\n",
       "      <th>95</th>\n",
       "      <td>D19</td>\n",
       "      <td>1.0</td>\n",
       "    </tr>\n",
       "    <tr>\n",
       "      <th>60</th>\n",
       "      <td>C148</td>\n",
       "      <td>1.0</td>\n",
       "    </tr>\n",
       "    <tr>\n",
       "      <th>...</th>\n",
       "      <td>...</td>\n",
       "      <td>...</td>\n",
       "    </tr>\n",
       "    <tr>\n",
       "      <th>67</th>\n",
       "      <td>C46</td>\n",
       "      <td>0.0</td>\n",
       "    </tr>\n",
       "    <tr>\n",
       "      <th>64</th>\n",
       "      <td>C30</td>\n",
       "      <td>0.0</td>\n",
       "    </tr>\n",
       "    <tr>\n",
       "      <th>59</th>\n",
       "      <td>C128</td>\n",
       "      <td>0.0</td>\n",
       "    </tr>\n",
       "    <tr>\n",
       "      <th>56</th>\n",
       "      <td>C124</td>\n",
       "      <td>0.0</td>\n",
       "    </tr>\n",
       "    <tr>\n",
       "      <th>146</th>\n",
       "      <td>T</td>\n",
       "      <td>0.0</td>\n",
       "    </tr>\n",
       "  </tbody>\n",
       "</table>\n",
       "<p>147 rows × 2 columns</p>\n",
       "</div>"
      ],
      "text/plain": [
       "       Cabin  Survived\n",
       "73   C62 C64       1.0\n",
       "97       D21       1.0\n",
       "94       D17       1.0\n",
       "95       D19       1.0\n",
       "60      C148       1.0\n",
       "..       ...       ...\n",
       "67       C46       0.0\n",
       "64       C30       0.0\n",
       "59      C128       0.0\n",
       "56      C124       0.0\n",
       "146        T       0.0\n",
       "\n",
       "[147 rows x 2 columns]"
      ]
     },
     "execution_count": 11,
     "metadata": {},
     "output_type": "execute_result"
    }
   ],
   "source": [
    "check_relation_to_survival('Cabin')"
   ]
  },
  {
   "cell_type": "code",
   "execution_count": 12,
   "id": "infectious-animal",
   "metadata": {
    "execution": {
     "iopub.execute_input": "2021-06-11T05:30:31.304566Z",
     "iopub.status.busy": "2021-06-11T05:30:31.301367Z",
     "iopub.status.idle": "2021-06-11T05:30:31.312822Z",
     "shell.execute_reply": "2021-06-11T05:30:31.312189Z",
     "shell.execute_reply.started": "2021-06-11T04:14:45.622150Z"
    },
    "papermill": {
     "duration": 0.075589,
     "end_time": "2021-06-11T05:30:31.312976",
     "exception": false,
     "start_time": "2021-06-11T05:30:31.237387",
     "status": "completed"
    },
    "tags": []
   },
   "outputs": [
    {
     "data": {
      "text/html": [
       "<div>\n",
       "<style scoped>\n",
       "    .dataframe tbody tr th:only-of-type {\n",
       "        vertical-align: middle;\n",
       "    }\n",
       "\n",
       "    .dataframe tbody tr th {\n",
       "        vertical-align: top;\n",
       "    }\n",
       "\n",
       "    .dataframe thead th {\n",
       "        text-align: right;\n",
       "    }\n",
       "</style>\n",
       "<table border=\"1\" class=\"dataframe\">\n",
       "  <thead>\n",
       "    <tr style=\"text-align: right;\">\n",
       "      <th></th>\n",
       "      <th>Parch</th>\n",
       "      <th>Survived</th>\n",
       "    </tr>\n",
       "  </thead>\n",
       "  <tbody>\n",
       "    <tr>\n",
       "      <th>0</th>\n",
       "      <td>0</td>\n",
       "      <td>0.343658</td>\n",
       "    </tr>\n",
       "    <tr>\n",
       "      <th>1</th>\n",
       "      <td>1</td>\n",
       "      <td>0.550847</td>\n",
       "    </tr>\n",
       "    <tr>\n",
       "      <th>2</th>\n",
       "      <td>2</td>\n",
       "      <td>0.500000</td>\n",
       "    </tr>\n",
       "    <tr>\n",
       "      <th>3</th>\n",
       "      <td>3</td>\n",
       "      <td>0.600000</td>\n",
       "    </tr>\n",
       "    <tr>\n",
       "      <th>4</th>\n",
       "      <td>4</td>\n",
       "      <td>0.000000</td>\n",
       "    </tr>\n",
       "    <tr>\n",
       "      <th>5</th>\n",
       "      <td>5</td>\n",
       "      <td>0.200000</td>\n",
       "    </tr>\n",
       "    <tr>\n",
       "      <th>6</th>\n",
       "      <td>6</td>\n",
       "      <td>0.000000</td>\n",
       "    </tr>\n",
       "  </tbody>\n",
       "</table>\n",
       "</div>"
      ],
      "text/plain": [
       "   Parch  Survived\n",
       "0      0  0.343658\n",
       "1      1  0.550847\n",
       "2      2  0.500000\n",
       "3      3  0.600000\n",
       "4      4  0.000000\n",
       "5      5  0.200000\n",
       "6      6  0.000000"
      ]
     },
     "execution_count": 12,
     "metadata": {},
     "output_type": "execute_result"
    }
   ],
   "source": [
    "check_relation_to_survival('Parch').sort_values(by='Parch')"
   ]
  },
  {
   "cell_type": "code",
   "execution_count": 13,
   "id": "seasonal-avenue",
   "metadata": {
    "execution": {
     "iopub.execute_input": "2021-06-11T05:30:31.436405Z",
     "iopub.status.busy": "2021-06-11T05:30:31.435755Z",
     "iopub.status.idle": "2021-06-11T05:30:31.446796Z",
     "shell.execute_reply": "2021-06-11T05:30:31.446138Z",
     "shell.execute_reply.started": "2021-06-11T04:14:45.639097Z"
    },
    "papermill": {
     "duration": 0.075794,
     "end_time": "2021-06-11T05:30:31.446937",
     "exception": false,
     "start_time": "2021-06-11T05:30:31.371143",
     "status": "completed"
    },
    "tags": []
   },
   "outputs": [
    {
     "data": {
      "text/html": [
       "<div>\n",
       "<style scoped>\n",
       "    .dataframe tbody tr th:only-of-type {\n",
       "        vertical-align: middle;\n",
       "    }\n",
       "\n",
       "    .dataframe tbody tr th {\n",
       "        vertical-align: top;\n",
       "    }\n",
       "\n",
       "    .dataframe thead th {\n",
       "        text-align: right;\n",
       "    }\n",
       "</style>\n",
       "<table border=\"1\" class=\"dataframe\">\n",
       "  <thead>\n",
       "    <tr style=\"text-align: right;\">\n",
       "      <th></th>\n",
       "      <th>SibSp</th>\n",
       "      <th>Survived</th>\n",
       "    </tr>\n",
       "  </thead>\n",
       "  <tbody>\n",
       "    <tr>\n",
       "      <th>0</th>\n",
       "      <td>0</td>\n",
       "      <td>0.345395</td>\n",
       "    </tr>\n",
       "    <tr>\n",
       "      <th>1</th>\n",
       "      <td>1</td>\n",
       "      <td>0.535885</td>\n",
       "    </tr>\n",
       "    <tr>\n",
       "      <th>2</th>\n",
       "      <td>2</td>\n",
       "      <td>0.464286</td>\n",
       "    </tr>\n",
       "    <tr>\n",
       "      <th>3</th>\n",
       "      <td>3</td>\n",
       "      <td>0.250000</td>\n",
       "    </tr>\n",
       "    <tr>\n",
       "      <th>4</th>\n",
       "      <td>4</td>\n",
       "      <td>0.166667</td>\n",
       "    </tr>\n",
       "    <tr>\n",
       "      <th>5</th>\n",
       "      <td>5</td>\n",
       "      <td>0.000000</td>\n",
       "    </tr>\n",
       "    <tr>\n",
       "      <th>6</th>\n",
       "      <td>8</td>\n",
       "      <td>0.000000</td>\n",
       "    </tr>\n",
       "  </tbody>\n",
       "</table>\n",
       "</div>"
      ],
      "text/plain": [
       "   SibSp  Survived\n",
       "0      0  0.345395\n",
       "1      1  0.535885\n",
       "2      2  0.464286\n",
       "3      3  0.250000\n",
       "4      4  0.166667\n",
       "5      5  0.000000\n",
       "6      8  0.000000"
      ]
     },
     "execution_count": 13,
     "metadata": {},
     "output_type": "execute_result"
    }
   ],
   "source": [
    "check_relation_to_survival('SibSp').sort_values(by='SibSp')"
   ]
  },
  {
   "cell_type": "code",
   "execution_count": 14,
   "id": "extensive-image",
   "metadata": {
    "execution": {
     "iopub.execute_input": "2021-06-11T05:30:31.573084Z",
     "iopub.status.busy": "2021-06-11T05:30:31.572399Z",
     "iopub.status.idle": "2021-06-11T05:30:31.577131Z",
     "shell.execute_reply": "2021-06-11T05:30:31.576595Z",
     "shell.execute_reply.started": "2021-06-11T04:14:45.658473Z"
    },
    "papermill": {
     "duration": 0.074677,
     "end_time": "2021-06-11T05:30:31.577276",
     "exception": false,
     "start_time": "2021-06-11T05:30:31.502599",
     "status": "completed"
    },
    "tags": []
   },
   "outputs": [
    {
     "data": {
      "text/html": [
       "<div>\n",
       "<style scoped>\n",
       "    .dataframe tbody tr th:only-of-type {\n",
       "        vertical-align: middle;\n",
       "    }\n",
       "\n",
       "    .dataframe tbody tr th {\n",
       "        vertical-align: top;\n",
       "    }\n",
       "\n",
       "    .dataframe thead th {\n",
       "        text-align: right;\n",
       "    }\n",
       "</style>\n",
       "<table border=\"1\" class=\"dataframe\">\n",
       "  <thead>\n",
       "    <tr style=\"text-align: right;\">\n",
       "      <th></th>\n",
       "      <th>Embarked</th>\n",
       "      <th>Survived</th>\n",
       "    </tr>\n",
       "  </thead>\n",
       "  <tbody>\n",
       "    <tr>\n",
       "      <th>0</th>\n",
       "      <td>C</td>\n",
       "      <td>0.553571</td>\n",
       "    </tr>\n",
       "    <tr>\n",
       "      <th>1</th>\n",
       "      <td>Q</td>\n",
       "      <td>0.389610</td>\n",
       "    </tr>\n",
       "    <tr>\n",
       "      <th>2</th>\n",
       "      <td>S</td>\n",
       "      <td>0.336957</td>\n",
       "    </tr>\n",
       "  </tbody>\n",
       "</table>\n",
       "</div>"
      ],
      "text/plain": [
       "  Embarked  Survived\n",
       "0        C  0.553571\n",
       "1        Q  0.389610\n",
       "2        S  0.336957"
      ]
     },
     "execution_count": 14,
     "metadata": {},
     "output_type": "execute_result"
    }
   ],
   "source": [
    "check_relation_to_survival('Embarked')"
   ]
  },
  {
   "cell_type": "code",
   "execution_count": 15,
   "id": "metric-faculty",
   "metadata": {
    "execution": {
     "iopub.execute_input": "2021-06-11T05:30:31.713889Z",
     "iopub.status.busy": "2021-06-11T05:30:31.712693Z",
     "iopub.status.idle": "2021-06-11T05:30:32.189468Z",
     "shell.execute_reply": "2021-06-11T05:30:32.188927Z",
     "shell.execute_reply.started": "2021-06-11T04:14:45.683107Z"
    },
    "papermill": {
     "duration": 0.555563,
     "end_time": "2021-06-11T05:30:32.189612",
     "exception": false,
     "start_time": "2021-06-11T05:30:31.634049",
     "status": "completed"
    },
    "tags": []
   },
   "outputs": [
    {
     "data": {
      "text/plain": [
       "<seaborn.axisgrid.FacetGrid at 0x7fe20584d350>"
      ]
     },
     "execution_count": 15,
     "metadata": {},
     "output_type": "execute_result"
    },
    {
     "data": {
      "image/png": "[encoded data removed]",
      "text/plain": [
       "<Figure size 432x216 with 2 Axes>"
      ]
     },
     "metadata": {
      "needs_background": "light"
     },
     "output_type": "display_data"
    }
   ],
   "source": [
    "bar_graph = sns.FacetGrid(train_split_df, col='Survived')\n",
    "bar_graph.map(plt.hist, 'Parch', bins=20)"
   ]
  },
  {
   "cell_type": "code",
   "execution_count": 16,
   "id": "alone-comparison",
   "metadata": {
    "execution": {
     "iopub.execute_input": "2021-06-11T05:30:32.465615Z",
     "iopub.status.busy": "2021-06-11T05:30:32.428047Z",
     "iopub.status.idle": "2021-06-11T05:30:32.910562Z",
     "shell.execute_reply": "2021-06-11T05:30:32.909940Z",
     "shell.execute_reply.started": "2021-06-11T04:14:46.121055Z"
    },
    "papermill": {
     "duration": 0.663926,
     "end_time": "2021-06-11T05:30:32.910711",
     "exception": false,
     "start_time": "2021-06-11T05:30:32.246785",
     "status": "completed"
    },
    "tags": []
   },
   "outputs": [
    {
     "data": {
      "text/plain": [
       "<seaborn.axisgrid.FacetGrid at 0x7fe1fb3aefd0>"
      ]
     },
     "execution_count": 16,
     "metadata": {},
     "output_type": "execute_result"
    },
    {
     "data": {
      "image/png": "[encoded data removed]",
      "text/plain": [
       "<Figure size 432x216 with 2 Axes>"
      ]
     },
     "metadata": {
      "needs_background": "light"
     },
     "output_type": "display_data"
    }
   ],
   "source": [
    "bar_graph = sns.FacetGrid(train_split_df, col='Survived')\n",
    "bar_graph.map(plt.hist, 'Age', bins=20)"
   ]
  },
  {
   "cell_type": "code",
   "execution_count": 17,
   "id": "french-intervention",
   "metadata": {
    "execution": {
     "iopub.execute_input": "2021-06-11T05:30:33.036667Z",
     "iopub.status.busy": "2021-06-11T05:30:33.035685Z",
     "iopub.status.idle": "2021-06-11T05:30:33.038754Z",
     "shell.execute_reply": "2021-06-11T05:30:33.038209Z",
     "shell.execute_reply.started": "2021-06-11T04:14:46.524386Z"
    },
    "papermill": {
     "duration": 0.069676,
     "end_time": "2021-06-11T05:30:33.038890",
     "exception": false,
     "start_time": "2021-06-11T05:30:32.969214",
     "status": "completed"
    },
    "tags": []
   },
   "outputs": [],
   "source": [
    "# Droping due to lack of data points\n",
    "train_split_df = train_split_df.drop(['Ticket', 'Cabin'], axis=1)\n",
    "test_split_df = test_split_df.drop(['Ticket', 'Cabin'], axis=1)"
   ]
  },
  {
   "cell_type": "markdown",
   "id": "valuable-midnight",
   "metadata": {
    "papermill": {
     "duration": 0.057129,
     "end_time": "2021-06-11T05:30:33.153547",
     "exception": false,
     "start_time": "2021-06-11T05:30:33.096418",
     "status": "completed"
    },
    "tags": []
   },
   "source": [
    "# Data Preperation\n",
    "Includes feature analysis, feature reduction and generation"
   ]
  },
  {
   "cell_type": "code",
   "execution_count": 18,
   "id": "suitable-albuquerque",
   "metadata": {
    "execution": {
     "iopub.execute_input": "2021-06-11T05:30:33.294056Z",
     "iopub.status.busy": "2021-06-11T05:30:33.290843Z",
     "iopub.status.idle": "2021-06-11T05:30:33.309662Z",
     "shell.execute_reply": "2021-06-11T05:30:33.309089Z",
     "shell.execute_reply.started": "2021-06-11T04:14:46.531861Z"
    },
    "papermill": {
     "duration": 0.098926,
     "end_time": "2021-06-11T05:30:33.309804",
     "exception": false,
     "start_time": "2021-06-11T05:30:33.210878",
     "status": "completed"
    },
    "tags": []
   },
   "outputs": [
    {
     "data": {
      "text/html": [
       "<div>\n",
       "<style scoped>\n",
       "    .dataframe tbody tr th:only-of-type {\n",
       "        vertical-align: middle;\n",
       "    }\n",
       "\n",
       "    .dataframe tbody tr th {\n",
       "        vertical-align: top;\n",
       "    }\n",
       "\n",
       "    .dataframe thead th {\n",
       "        text-align: right;\n",
       "    }\n",
       "</style>\n",
       "<table border=\"1\" class=\"dataframe\">\n",
       "  <thead>\n",
       "    <tr style=\"text-align: right;\">\n",
       "      <th>Sex</th>\n",
       "      <th>female</th>\n",
       "      <th>male</th>\n",
       "    </tr>\n",
       "    <tr>\n",
       "      <th>Title</th>\n",
       "      <th></th>\n",
       "      <th></th>\n",
       "    </tr>\n",
       "  </thead>\n",
       "  <tbody>\n",
       "    <tr>\n",
       "      <th>Don</th>\n",
       "      <td>0</td>\n",
       "      <td>1</td>\n",
       "    </tr>\n",
       "    <tr>\n",
       "      <th>Dr</th>\n",
       "      <td>0</td>\n",
       "      <td>3</td>\n",
       "    </tr>\n",
       "    <tr>\n",
       "      <th>Master</th>\n",
       "      <td>9</td>\n",
       "      <td>14</td>\n",
       "    </tr>\n",
       "    <tr>\n",
       "      <th>Miss</th>\n",
       "      <td>37</td>\n",
       "      <td>64</td>\n",
       "    </tr>\n",
       "    <tr>\n",
       "      <th>Mme</th>\n",
       "      <td>0</td>\n",
       "      <td>1</td>\n",
       "    </tr>\n",
       "    <tr>\n",
       "      <th>Mr</th>\n",
       "      <td>83</td>\n",
       "      <td>145</td>\n",
       "    </tr>\n",
       "    <tr>\n",
       "      <th>Mrs</th>\n",
       "      <td>21</td>\n",
       "      <td>37</td>\n",
       "    </tr>\n",
       "    <tr>\n",
       "      <th>Rev</th>\n",
       "      <td>2</td>\n",
       "      <td>1</td>\n",
       "    </tr>\n",
       "  </tbody>\n",
       "</table>\n",
       "</div>"
      ],
      "text/plain": [
       "Sex     female  male\n",
       "Title               \n",
       "Don          0     1\n",
       "Dr           0     3\n",
       "Master       9    14\n",
       "Miss        37    64\n",
       "Mme          0     1\n",
       "Mr          83   145\n",
       "Mrs         21    37\n",
       "Rev          2     1"
      ]
     },
     "execution_count": 18,
     "metadata": {},
     "output_type": "execute_result"
    }
   ],
   "source": [
    "train_split_df['Title'] = train_split_df.Name.str.extract(' ([A-Za-z]+)\\.', expand=False)\n",
    "test_split_df['Title'] = test_split_df.Name.str.extract(' ([A-Za-z]+)\\.', expand=False)\n",
    "\n",
    "pd.crosstab(train_split_df['Title'], test_split_df['Sex'])"
   ]
  },
  {
   "cell_type": "code",
   "execution_count": 19,
   "id": "preliminary-butter",
   "metadata": {
    "execution": {
     "iopub.execute_input": "2021-06-11T05:30:33.430973Z",
     "iopub.status.busy": "2021-06-11T05:30:33.430280Z",
     "iopub.status.idle": "2021-06-11T05:30:33.455553Z",
     "shell.execute_reply": "2021-06-11T05:30:33.456185Z",
     "shell.execute_reply.started": "2021-06-11T04:14:46.570853Z"
    },
    "papermill": {
     "duration": 0.088228,
     "end_time": "2021-06-11T05:30:33.456384",
     "exception": false,
     "start_time": "2021-06-11T05:30:33.368156",
     "status": "completed"
    },
    "tags": []
   },
   "outputs": [
    {
     "data": {
      "text/html": [
       "<div>\n",
       "<style scoped>\n",
       "    .dataframe tbody tr th:only-of-type {\n",
       "        vertical-align: middle;\n",
       "    }\n",
       "\n",
       "    .dataframe tbody tr th {\n",
       "        vertical-align: top;\n",
       "    }\n",
       "\n",
       "    .dataframe thead th {\n",
       "        text-align: right;\n",
       "    }\n",
       "</style>\n",
       "<table border=\"1\" class=\"dataframe\">\n",
       "  <thead>\n",
       "    <tr style=\"text-align: right;\">\n",
       "      <th></th>\n",
       "      <th>PassengerId</th>\n",
       "      <th>Survived</th>\n",
       "      <th>Pclass</th>\n",
       "      <th>Name</th>\n",
       "      <th>Sex</th>\n",
       "      <th>Age</th>\n",
       "      <th>SibSp</th>\n",
       "      <th>Parch</th>\n",
       "      <th>Fare</th>\n",
       "      <th>Embarked</th>\n",
       "      <th>Title</th>\n",
       "    </tr>\n",
       "  </thead>\n",
       "  <tbody>\n",
       "    <tr>\n",
       "      <th>0</th>\n",
       "      <td>1</td>\n",
       "      <td>0</td>\n",
       "      <td>3</td>\n",
       "      <td>Braund, Mr. Owen Harris</td>\n",
       "      <td>male</td>\n",
       "      <td>22.0</td>\n",
       "      <td>1</td>\n",
       "      <td>0</td>\n",
       "      <td>7.2500</td>\n",
       "      <td>S</td>\n",
       "      <td>Mr</td>\n",
       "    </tr>\n",
       "    <tr>\n",
       "      <th>1</th>\n",
       "      <td>2</td>\n",
       "      <td>1</td>\n",
       "      <td>1</td>\n",
       "      <td>Cumings, Mrs. John Bradley (Florence Briggs Th...</td>\n",
       "      <td>female</td>\n",
       "      <td>38.0</td>\n",
       "      <td>1</td>\n",
       "      <td>0</td>\n",
       "      <td>71.2833</td>\n",
       "      <td>C</td>\n",
       "      <td>Mrs</td>\n",
       "    </tr>\n",
       "    <tr>\n",
       "      <th>2</th>\n",
       "      <td>3</td>\n",
       "      <td>1</td>\n",
       "      <td>3</td>\n",
       "      <td>Heikkinen, Miss. Laina</td>\n",
       "      <td>female</td>\n",
       "      <td>26.0</td>\n",
       "      <td>0</td>\n",
       "      <td>0</td>\n",
       "      <td>7.9250</td>\n",
       "      <td>S</td>\n",
       "      <td>Miss</td>\n",
       "    </tr>\n",
       "    <tr>\n",
       "      <th>3</th>\n",
       "      <td>4</td>\n",
       "      <td>1</td>\n",
       "      <td>1</td>\n",
       "      <td>Futrelle, Mrs. Jacques Heath (Lily May Peel)</td>\n",
       "      <td>female</td>\n",
       "      <td>35.0</td>\n",
       "      <td>1</td>\n",
       "      <td>0</td>\n",
       "      <td>53.1000</td>\n",
       "      <td>S</td>\n",
       "      <td>Mrs</td>\n",
       "    </tr>\n",
       "    <tr>\n",
       "      <th>4</th>\n",
       "      <td>5</td>\n",
       "      <td>0</td>\n",
       "      <td>3</td>\n",
       "      <td>Allen, Mr. William Henry</td>\n",
       "      <td>male</td>\n",
       "      <td>35.0</td>\n",
       "      <td>0</td>\n",
       "      <td>0</td>\n",
       "      <td>8.0500</td>\n",
       "      <td>S</td>\n",
       "      <td>Mr</td>\n",
       "    </tr>\n",
       "    <tr>\n",
       "      <th>...</th>\n",
       "      <td>...</td>\n",
       "      <td>...</td>\n",
       "      <td>...</td>\n",
       "      <td>...</td>\n",
       "      <td>...</td>\n",
       "      <td>...</td>\n",
       "      <td>...</td>\n",
       "      <td>...</td>\n",
       "      <td>...</td>\n",
       "      <td>...</td>\n",
       "      <td>...</td>\n",
       "    </tr>\n",
       "    <tr>\n",
       "      <th>886</th>\n",
       "      <td>887</td>\n",
       "      <td>0</td>\n",
       "      <td>2</td>\n",
       "      <td>Montvila, Rev. Juozas</td>\n",
       "      <td>male</td>\n",
       "      <td>27.0</td>\n",
       "      <td>0</td>\n",
       "      <td>0</td>\n",
       "      <td>13.0000</td>\n",
       "      <td>S</td>\n",
       "      <td>Rev</td>\n",
       "    </tr>\n",
       "    <tr>\n",
       "      <th>887</th>\n",
       "      <td>888</td>\n",
       "      <td>1</td>\n",
       "      <td>1</td>\n",
       "      <td>Graham, Miss. Margaret Edith</td>\n",
       "      <td>female</td>\n",
       "      <td>19.0</td>\n",
       "      <td>0</td>\n",
       "      <td>0</td>\n",
       "      <td>30.0000</td>\n",
       "      <td>S</td>\n",
       "      <td>Miss</td>\n",
       "    </tr>\n",
       "    <tr>\n",
       "      <th>888</th>\n",
       "      <td>889</td>\n",
       "      <td>0</td>\n",
       "      <td>3</td>\n",
       "      <td>Johnston, Miss. Catherine Helen \"Carrie\"</td>\n",
       "      <td>female</td>\n",
       "      <td>NaN</td>\n",
       "      <td>1</td>\n",
       "      <td>2</td>\n",
       "      <td>23.4500</td>\n",
       "      <td>S</td>\n",
       "      <td>Miss</td>\n",
       "    </tr>\n",
       "    <tr>\n",
       "      <th>889</th>\n",
       "      <td>890</td>\n",
       "      <td>1</td>\n",
       "      <td>1</td>\n",
       "      <td>Behr, Mr. Karl Howell</td>\n",
       "      <td>male</td>\n",
       "      <td>26.0</td>\n",
       "      <td>0</td>\n",
       "      <td>0</td>\n",
       "      <td>30.0000</td>\n",
       "      <td>C</td>\n",
       "      <td>Mr</td>\n",
       "    </tr>\n",
       "    <tr>\n",
       "      <th>890</th>\n",
       "      <td>891</td>\n",
       "      <td>0</td>\n",
       "      <td>3</td>\n",
       "      <td>Dooley, Mr. Patrick</td>\n",
       "      <td>male</td>\n",
       "      <td>32.0</td>\n",
       "      <td>0</td>\n",
       "      <td>0</td>\n",
       "      <td>7.7500</td>\n",
       "      <td>Q</td>\n",
       "      <td>Mr</td>\n",
       "    </tr>\n",
       "  </tbody>\n",
       "</table>\n",
       "<p>891 rows × 11 columns</p>\n",
       "</div>"
      ],
      "text/plain": [
       "     PassengerId  Survived  Pclass  \\\n",
       "0              1         0       3   \n",
       "1              2         1       1   \n",
       "2              3         1       3   \n",
       "3              4         1       1   \n",
       "4              5         0       3   \n",
       "..           ...       ...     ...   \n",
       "886          887         0       2   \n",
       "887          888         1       1   \n",
       "888          889         0       3   \n",
       "889          890         1       1   \n",
       "890          891         0       3   \n",
       "\n",
       "                                                  Name     Sex   Age  SibSp  \\\n",
       "0                              Braund, Mr. Owen Harris    male  22.0      1   \n",
       "1    Cumings, Mrs. John Bradley (Florence Briggs Th...  female  38.0      1   \n",
       "2                               Heikkinen, Miss. Laina  female  26.0      0   \n",
       "3         Futrelle, Mrs. Jacques Heath (Lily May Peel)  female  35.0      1   \n",
       "4                             Allen, Mr. William Henry    male  35.0      0   \n",
       "..                                                 ...     ...   ...    ...   \n",
       "886                              Montvila, Rev. Juozas    male  27.0      0   \n",
       "887                       Graham, Miss. Margaret Edith  female  19.0      0   \n",
       "888           Johnston, Miss. Catherine Helen \"Carrie\"  female   NaN      1   \n",
       "889                              Behr, Mr. Karl Howell    male  26.0      0   \n",
       "890                                Dooley, Mr. Patrick    male  32.0      0   \n",
       "\n",
       "     Parch     Fare Embarked Title  \n",
       "0        0   7.2500        S    Mr  \n",
       "1        0  71.2833        C   Mrs  \n",
       "2        0   7.9250        S  Miss  \n",
       "3        0  53.1000        S   Mrs  \n",
       "4        0   8.0500        S    Mr  \n",
       "..     ...      ...      ...   ...  \n",
       "886      0  13.0000        S   Rev  \n",
       "887      0  30.0000        S  Miss  \n",
       "888      2  23.4500        S  Miss  \n",
       "889      0  30.0000        C    Mr  \n",
       "890      0   7.7500        Q    Mr  \n",
       "\n",
       "[891 rows x 11 columns]"
      ]
     },
     "execution_count": 19,
     "metadata": {},
     "output_type": "execute_result"
    }
   ],
   "source": [
    "train_split_df"
   ]
  },
  {
   "cell_type": "code",
   "execution_count": 20,
   "id": "portuguese-coach",
   "metadata": {
    "execution": {
     "iopub.execute_input": "2021-06-11T05:30:33.578443Z",
     "iopub.status.busy": "2021-06-11T05:30:33.577714Z",
     "iopub.status.idle": "2021-06-11T05:30:33.600891Z",
     "shell.execute_reply": "2021-06-11T05:30:33.601408Z",
     "shell.execute_reply.started": "2021-06-11T04:14:46.597715Z"
    },
    "papermill": {
     "duration": 0.085858,
     "end_time": "2021-06-11T05:30:33.601578",
     "exception": false,
     "start_time": "2021-06-11T05:30:33.515720",
     "status": "completed"
    },
    "tags": []
   },
   "outputs": [
    {
     "data": {
      "text/html": [
       "<div>\n",
       "<style scoped>\n",
       "    .dataframe tbody tr th:only-of-type {\n",
       "        vertical-align: middle;\n",
       "    }\n",
       "\n",
       "    .dataframe tbody tr th {\n",
       "        vertical-align: top;\n",
       "    }\n",
       "\n",
       "    .dataframe thead th {\n",
       "        text-align: right;\n",
       "    }\n",
       "</style>\n",
       "<table border=\"1\" class=\"dataframe\">\n",
       "  <thead>\n",
       "    <tr style=\"text-align: right;\">\n",
       "      <th></th>\n",
       "      <th>Title</th>\n",
       "      <th>Survived</th>\n",
       "    </tr>\n",
       "  </thead>\n",
       "  <tbody>\n",
       "    <tr>\n",
       "      <th>0</th>\n",
       "      <td>Master</td>\n",
       "      <td>0.575000</td>\n",
       "    </tr>\n",
       "    <tr>\n",
       "      <th>1</th>\n",
       "      <td>Miss</td>\n",
       "      <td>0.702703</td>\n",
       "    </tr>\n",
       "    <tr>\n",
       "      <th>2</th>\n",
       "      <td>Mr</td>\n",
       "      <td>0.156673</td>\n",
       "    </tr>\n",
       "    <tr>\n",
       "      <th>3</th>\n",
       "      <td>Mrs</td>\n",
       "      <td>0.793651</td>\n",
       "    </tr>\n",
       "    <tr>\n",
       "      <th>4</th>\n",
       "      <td>Other</td>\n",
       "      <td>0.347826</td>\n",
       "    </tr>\n",
       "  </tbody>\n",
       "</table>\n",
       "</div>"
      ],
      "text/plain": [
       "    Title  Survived\n",
       "0  Master  0.575000\n",
       "1    Miss  0.702703\n",
       "2      Mr  0.156673\n",
       "3     Mrs  0.793651\n",
       "4   Other  0.347826"
      ]
     },
     "execution_count": 20,
     "metadata": {},
     "output_type": "execute_result"
    }
   ],
   "source": [
    "for dataset in [train_split_df, test_split_df]:\n",
    "    dataset['Title'] = dataset['Title'].replace(['Lady', 'Countess','Capt', 'Col',\\\n",
    " \t'Don', 'Dr', 'Major', 'Rev', 'Sir', 'Jonkheer', 'Dona'], 'Other')\n",
    "    dataset['Title'] = dataset['Title'].replace('Mlle', 'Miss')\n",
    "    dataset['Title'] = dataset['Title'].replace('Ms', 'Miss')\n",
    "    dataset['Title'] = dataset['Title'].replace('Mme', 'Mrs')\n",
    "    \n",
    "train_split_df[['Title', 'Survived']].groupby(['Title'], as_index=False).mean()"
   ]
  },
  {
   "cell_type": "code",
   "execution_count": null,
   "id": "meaningful-geneva",
   "metadata": {
    "papermill": {
     "duration": 0.059544,
     "end_time": "2021-06-11T05:30:33.719931",
     "exception": false,
     "start_time": "2021-06-11T05:30:33.660387",
     "status": "completed"
    },
    "tags": []
   },
   "outputs": [],
   "source": []
  },
  {
   "cell_type": "markdown",
   "id": "worth-helicopter",
   "metadata": {
    "execution": {
     "iopub.execute_input": "2021-06-10T09:19:51.568171Z",
     "iopub.status.busy": "2021-06-10T09:19:51.567766Z",
     "iopub.status.idle": "2021-06-10T09:19:51.590850Z",
     "shell.execute_reply": "2021-06-10T09:19:51.589691Z",
     "shell.execute_reply.started": "2021-06-10T09:19:51.568135Z"
    },
    "papermill": {
     "duration": 0.059353,
     "end_time": "2021-06-11T05:30:33.838556",
     "exception": false,
     "start_time": "2021-06-11T05:30:33.779203",
     "status": "completed"
    },
    "tags": []
   },
   "source": [
    "title_mapping = {\"Mr\": 1, \"Miss\": 2, \"Mrs\": 3, \"Master\": 4, \"Rare\": 5}\n",
    "for dataset in [train_split_df, test_split_df]:\n",
    "    dataset['Title'] = dataset['Title'].map(title_mapping)\n",
    "    dataset['Title'] = dataset['Title'].fillna(0)\n",
    "\n",
    "train_split_df.head()"
   ]
  },
  {
   "cell_type": "code",
   "execution_count": 21,
   "id": "fundamental-latvia",
   "metadata": {
    "execution": {
     "iopub.execute_input": "2021-06-11T05:30:33.960017Z",
     "iopub.status.busy": "2021-06-11T05:30:33.959361Z",
     "iopub.status.idle": "2021-06-11T05:30:33.968824Z",
     "shell.execute_reply": "2021-06-11T05:30:33.968275Z",
     "shell.execute_reply.started": "2021-06-11T04:14:46.630986Z"
    },
    "papermill": {
     "duration": 0.071274,
     "end_time": "2021-06-11T05:30:33.968970",
     "exception": false,
     "start_time": "2021-06-11T05:30:33.897696",
     "status": "completed"
    },
    "tags": []
   },
   "outputs": [
    {
     "data": {
      "text/plain": [
       "((891, 9), (418, 9))"
      ]
     },
     "execution_count": 21,
     "metadata": {},
     "output_type": "execute_result"
    }
   ],
   "source": [
    "train_split_df = train_split_df.drop(['Name', 'PassengerId'], axis=1)\n",
    "test_split_df = test_split_df.drop(['Name'], axis=1)\n",
    "train_split_df.shape, test_split_df.shape"
   ]
  },
  {
   "cell_type": "code",
   "execution_count": 22,
   "id": "informational-poison",
   "metadata": {
    "execution": {
     "iopub.execute_input": "2021-06-11T05:30:34.098376Z",
     "iopub.status.busy": "2021-06-11T05:30:34.097699Z",
     "iopub.status.idle": "2021-06-11T05:30:34.101383Z",
     "shell.execute_reply": "2021-06-11T05:30:34.100772Z",
     "shell.execute_reply.started": "2021-06-11T04:14:46.644631Z"
    },
    "papermill": {
     "duration": 0.07195,
     "end_time": "2021-06-11T05:30:34.101531",
     "exception": false,
     "start_time": "2021-06-11T05:30:34.029581",
     "status": "completed"
    },
    "tags": []
   },
   "outputs": [],
   "source": [
    "for dataset in [train_split_df, test_split_df]:\n",
    "    dataset['Sex'] = dataset['Sex'].map( {'female': 1, 'male': 0} ).astype(int)"
   ]
  },
  {
   "cell_type": "code",
   "execution_count": 23,
   "id": "durable-validation",
   "metadata": {
    "execution": {
     "iopub.execute_input": "2021-06-11T05:30:34.235989Z",
     "iopub.status.busy": "2021-06-11T05:30:34.235128Z",
     "iopub.status.idle": "2021-06-11T05:30:34.238272Z",
     "shell.execute_reply": "2021-06-11T05:30:34.238849Z",
     "shell.execute_reply.started": "2021-06-11T04:14:46.658800Z"
    },
    "papermill": {
     "duration": 0.077494,
     "end_time": "2021-06-11T05:30:34.239036",
     "exception": false,
     "start_time": "2021-06-11T05:30:34.161542",
     "status": "completed"
    },
    "tags": []
   },
   "outputs": [
    {
     "data": {
      "text/html": [
       "<div>\n",
       "<style scoped>\n",
       "    .dataframe tbody tr th:only-of-type {\n",
       "        vertical-align: middle;\n",
       "    }\n",
       "\n",
       "    .dataframe tbody tr th {\n",
       "        vertical-align: top;\n",
       "    }\n",
       "\n",
       "    .dataframe thead th {\n",
       "        text-align: right;\n",
       "    }\n",
       "</style>\n",
       "<table border=\"1\" class=\"dataframe\">\n",
       "  <thead>\n",
       "    <tr style=\"text-align: right;\">\n",
       "      <th></th>\n",
       "      <th>Survived</th>\n",
       "      <th>Pclass</th>\n",
       "      <th>Sex</th>\n",
       "      <th>Age</th>\n",
       "      <th>SibSp</th>\n",
       "      <th>Parch</th>\n",
       "      <th>Fare</th>\n",
       "      <th>Embarked</th>\n",
       "      <th>Title</th>\n",
       "    </tr>\n",
       "  </thead>\n",
       "  <tbody>\n",
       "    <tr>\n",
       "      <th>0</th>\n",
       "      <td>0</td>\n",
       "      <td>3</td>\n",
       "      <td>0</td>\n",
       "      <td>22.0</td>\n",
       "      <td>1</td>\n",
       "      <td>0</td>\n",
       "      <td>7.2500</td>\n",
       "      <td>S</td>\n",
       "      <td>Mr</td>\n",
       "    </tr>\n",
       "    <tr>\n",
       "      <th>1</th>\n",
       "      <td>1</td>\n",
       "      <td>1</td>\n",
       "      <td>1</td>\n",
       "      <td>38.0</td>\n",
       "      <td>1</td>\n",
       "      <td>0</td>\n",
       "      <td>71.2833</td>\n",
       "      <td>C</td>\n",
       "      <td>Mrs</td>\n",
       "    </tr>\n",
       "    <tr>\n",
       "      <th>2</th>\n",
       "      <td>1</td>\n",
       "      <td>3</td>\n",
       "      <td>1</td>\n",
       "      <td>26.0</td>\n",
       "      <td>0</td>\n",
       "      <td>0</td>\n",
       "      <td>7.9250</td>\n",
       "      <td>S</td>\n",
       "      <td>Miss</td>\n",
       "    </tr>\n",
       "    <tr>\n",
       "      <th>3</th>\n",
       "      <td>1</td>\n",
       "      <td>1</td>\n",
       "      <td>1</td>\n",
       "      <td>35.0</td>\n",
       "      <td>1</td>\n",
       "      <td>0</td>\n",
       "      <td>53.1000</td>\n",
       "      <td>S</td>\n",
       "      <td>Mrs</td>\n",
       "    </tr>\n",
       "    <tr>\n",
       "      <th>4</th>\n",
       "      <td>0</td>\n",
       "      <td>3</td>\n",
       "      <td>0</td>\n",
       "      <td>35.0</td>\n",
       "      <td>0</td>\n",
       "      <td>0</td>\n",
       "      <td>8.0500</td>\n",
       "      <td>S</td>\n",
       "      <td>Mr</td>\n",
       "    </tr>\n",
       "  </tbody>\n",
       "</table>\n",
       "</div>"
      ],
      "text/plain": [
       "   Survived  Pclass  Sex   Age  SibSp  Parch     Fare Embarked Title\n",
       "0         0       3    0  22.0      1      0   7.2500        S    Mr\n",
       "1         1       1    1  38.0      1      0  71.2833        C   Mrs\n",
       "2         1       3    1  26.0      0      0   7.9250        S  Miss\n",
       "3         1       1    1  35.0      1      0  53.1000        S   Mrs\n",
       "4         0       3    0  35.0      0      0   8.0500        S    Mr"
      ]
     },
     "execution_count": 23,
     "metadata": {},
     "output_type": "execute_result"
    }
   ],
   "source": [
    "train_split_df.head()"
   ]
  },
  {
   "cell_type": "code",
   "execution_count": 24,
   "id": "received-white",
   "metadata": {
    "execution": {
     "iopub.execute_input": "2021-06-11T05:30:34.365869Z",
     "iopub.status.busy": "2021-06-11T05:30:34.365171Z",
     "iopub.status.idle": "2021-06-11T05:30:34.371170Z",
     "shell.execute_reply": "2021-06-11T05:30:34.371696Z",
     "shell.execute_reply.started": "2021-06-11T04:14:46.681139Z"
    },
    "papermill": {
     "duration": 0.070638,
     "end_time": "2021-06-11T05:30:34.371882",
     "exception": false,
     "start_time": "2021-06-11T05:30:34.301244",
     "status": "completed"
    },
    "tags": []
   },
   "outputs": [],
   "source": [
    "train_split_df['Age'].fillna((train_split_df['Age'].mean()), inplace=True)\n",
    "test_split_df['Age'].fillna((test_split_df['Age'].mean()), inplace=True)"
   ]
  },
  {
   "cell_type": "code",
   "execution_count": 25,
   "id": "appreciated-alliance",
   "metadata": {
    "execution": {
     "iopub.execute_input": "2021-06-11T05:30:34.499297Z",
     "iopub.status.busy": "2021-06-11T05:30:34.498622Z",
     "iopub.status.idle": "2021-06-11T05:30:34.505120Z",
     "shell.execute_reply": "2021-06-11T05:30:34.505629Z",
     "shell.execute_reply.started": "2021-06-11T04:14:46.695321Z"
    },
    "papermill": {
     "duration": 0.0714,
     "end_time": "2021-06-11T05:30:34.505828",
     "exception": false,
     "start_time": "2021-06-11T05:30:34.434428",
     "status": "completed"
    },
    "tags": []
   },
   "outputs": [],
   "source": [
    "train_split_df = train_split_df.drop(['Parch', 'SibSp'], axis=1)\n",
    "test_split_df = test_split_df.drop(['Parch', 'SibSp'], axis=1)"
   ]
  },
  {
   "cell_type": "code",
   "execution_count": 26,
   "id": "chemical-storage",
   "metadata": {
    "execution": {
     "iopub.execute_input": "2021-06-11T05:30:34.634735Z",
     "iopub.status.busy": "2021-06-11T05:30:34.634041Z",
     "iopub.status.idle": "2021-06-11T05:30:34.651269Z",
     "shell.execute_reply": "2021-06-11T05:30:34.651785Z",
     "shell.execute_reply.started": "2021-06-11T04:14:46.708439Z"
    },
    "papermill": {
     "duration": 0.082821,
     "end_time": "2021-06-11T05:30:34.651969",
     "exception": false,
     "start_time": "2021-06-11T05:30:34.569148",
     "status": "completed"
    },
    "tags": []
   },
   "outputs": [
    {
     "data": {
      "text/html": [
       "<div>\n",
       "<style scoped>\n",
       "    .dataframe tbody tr th:only-of-type {\n",
       "        vertical-align: middle;\n",
       "    }\n",
       "\n",
       "    .dataframe tbody tr th {\n",
       "        vertical-align: top;\n",
       "    }\n",
       "\n",
       "    .dataframe thead th {\n",
       "        text-align: right;\n",
       "    }\n",
       "</style>\n",
       "<table border=\"1\" class=\"dataframe\">\n",
       "  <thead>\n",
       "    <tr style=\"text-align: right;\">\n",
       "      <th></th>\n",
       "      <th>Survived</th>\n",
       "      <th>Pclass</th>\n",
       "      <th>Sex</th>\n",
       "      <th>Age</th>\n",
       "      <th>Fare</th>\n",
       "      <th>Embarked</th>\n",
       "      <th>Title</th>\n",
       "    </tr>\n",
       "  </thead>\n",
       "  <tbody>\n",
       "    <tr>\n",
       "      <th>0</th>\n",
       "      <td>0</td>\n",
       "      <td>3</td>\n",
       "      <td>0</td>\n",
       "      <td>22.000000</td>\n",
       "      <td>7.2500</td>\n",
       "      <td>S</td>\n",
       "      <td>Mr</td>\n",
       "    </tr>\n",
       "    <tr>\n",
       "      <th>1</th>\n",
       "      <td>1</td>\n",
       "      <td>1</td>\n",
       "      <td>1</td>\n",
       "      <td>38.000000</td>\n",
       "      <td>71.2833</td>\n",
       "      <td>C</td>\n",
       "      <td>Mrs</td>\n",
       "    </tr>\n",
       "    <tr>\n",
       "      <th>2</th>\n",
       "      <td>1</td>\n",
       "      <td>3</td>\n",
       "      <td>1</td>\n",
       "      <td>26.000000</td>\n",
       "      <td>7.9250</td>\n",
       "      <td>S</td>\n",
       "      <td>Miss</td>\n",
       "    </tr>\n",
       "    <tr>\n",
       "      <th>3</th>\n",
       "      <td>1</td>\n",
       "      <td>1</td>\n",
       "      <td>1</td>\n",
       "      <td>35.000000</td>\n",
       "      <td>53.1000</td>\n",
       "      <td>S</td>\n",
       "      <td>Mrs</td>\n",
       "    </tr>\n",
       "    <tr>\n",
       "      <th>4</th>\n",
       "      <td>0</td>\n",
       "      <td>3</td>\n",
       "      <td>0</td>\n",
       "      <td>35.000000</td>\n",
       "      <td>8.0500</td>\n",
       "      <td>S</td>\n",
       "      <td>Mr</td>\n",
       "    </tr>\n",
       "    <tr>\n",
       "      <th>...</th>\n",
       "      <td>...</td>\n",
       "      <td>...</td>\n",
       "      <td>...</td>\n",
       "      <td>...</td>\n",
       "      <td>...</td>\n",
       "      <td>...</td>\n",
       "      <td>...</td>\n",
       "    </tr>\n",
       "    <tr>\n",
       "      <th>886</th>\n",
       "      <td>0</td>\n",
       "      <td>2</td>\n",
       "      <td>0</td>\n",
       "      <td>27.000000</td>\n",
       "      <td>13.0000</td>\n",
       "      <td>S</td>\n",
       "      <td>Other</td>\n",
       "    </tr>\n",
       "    <tr>\n",
       "      <th>887</th>\n",
       "      <td>1</td>\n",
       "      <td>1</td>\n",
       "      <td>1</td>\n",
       "      <td>19.000000</td>\n",
       "      <td>30.0000</td>\n",
       "      <td>S</td>\n",
       "      <td>Miss</td>\n",
       "    </tr>\n",
       "    <tr>\n",
       "      <th>888</th>\n",
       "      <td>0</td>\n",
       "      <td>3</td>\n",
       "      <td>1</td>\n",
       "      <td>29.699118</td>\n",
       "      <td>23.4500</td>\n",
       "      <td>S</td>\n",
       "      <td>Miss</td>\n",
       "    </tr>\n",
       "    <tr>\n",
       "      <th>889</th>\n",
       "      <td>1</td>\n",
       "      <td>1</td>\n",
       "      <td>0</td>\n",
       "      <td>26.000000</td>\n",
       "      <td>30.0000</td>\n",
       "      <td>C</td>\n",
       "      <td>Mr</td>\n",
       "    </tr>\n",
       "    <tr>\n",
       "      <th>890</th>\n",
       "      <td>0</td>\n",
       "      <td>3</td>\n",
       "      <td>0</td>\n",
       "      <td>32.000000</td>\n",
       "      <td>7.7500</td>\n",
       "      <td>Q</td>\n",
       "      <td>Mr</td>\n",
       "    </tr>\n",
       "  </tbody>\n",
       "</table>\n",
       "<p>891 rows × 7 columns</p>\n",
       "</div>"
      ],
      "text/plain": [
       "     Survived  Pclass  Sex        Age     Fare Embarked  Title\n",
       "0           0       3    0  22.000000   7.2500        S     Mr\n",
       "1           1       1    1  38.000000  71.2833        C    Mrs\n",
       "2           1       3    1  26.000000   7.9250        S   Miss\n",
       "3           1       1    1  35.000000  53.1000        S    Mrs\n",
       "4           0       3    0  35.000000   8.0500        S     Mr\n",
       "..        ...     ...  ...        ...      ...      ...    ...\n",
       "886         0       2    0  27.000000  13.0000        S  Other\n",
       "887         1       1    1  19.000000  30.0000        S   Miss\n",
       "888         0       3    1  29.699118  23.4500        S   Miss\n",
       "889         1       1    0  26.000000  30.0000        C     Mr\n",
       "890         0       3    0  32.000000   7.7500        Q     Mr\n",
       "\n",
       "[891 rows x 7 columns]"
      ]
     },
     "execution_count": 26,
     "metadata": {},
     "output_type": "execute_result"
    }
   ],
   "source": [
    "train_split_df"
   ]
  },
  {
   "cell_type": "code",
   "execution_count": 27,
   "id": "answering-lindsay",
   "metadata": {
    "execution": {
     "iopub.execute_input": "2021-06-11T05:30:34.777288Z",
     "iopub.status.busy": "2021-06-11T05:30:34.776592Z",
     "iopub.status.idle": "2021-06-11T05:30:34.789536Z",
     "shell.execute_reply": "2021-06-11T05:30:34.790033Z",
     "shell.execute_reply.started": "2021-06-11T04:14:46.733646Z"
    },
    "papermill": {
     "duration": 0.077164,
     "end_time": "2021-06-11T05:30:34.790199",
     "exception": false,
     "start_time": "2021-06-11T05:30:34.713035",
     "status": "completed"
    },
    "tags": []
   },
   "outputs": [
    {
     "data": {
      "text/html": [
       "<div>\n",
       "<style scoped>\n",
       "    .dataframe tbody tr th:only-of-type {\n",
       "        vertical-align: middle;\n",
       "    }\n",
       "\n",
       "    .dataframe tbody tr th {\n",
       "        vertical-align: top;\n",
       "    }\n",
       "\n",
       "    .dataframe thead th {\n",
       "        text-align: right;\n",
       "    }\n",
       "</style>\n",
       "<table border=\"1\" class=\"dataframe\">\n",
       "  <thead>\n",
       "    <tr style=\"text-align: right;\">\n",
       "      <th></th>\n",
       "      <th>PassengerId</th>\n",
       "      <th>Pclass</th>\n",
       "      <th>Sex</th>\n",
       "      <th>Age</th>\n",
       "      <th>Fare</th>\n",
       "      <th>Embarked</th>\n",
       "      <th>Title</th>\n",
       "    </tr>\n",
       "  </thead>\n",
       "  <tbody>\n",
       "    <tr>\n",
       "      <th>0</th>\n",
       "      <td>892</td>\n",
       "      <td>3</td>\n",
       "      <td>0</td>\n",
       "      <td>34.5</td>\n",
       "      <td>7.8292</td>\n",
       "      <td>Q</td>\n",
       "      <td>Mr</td>\n",
       "    </tr>\n",
       "    <tr>\n",
       "      <th>1</th>\n",
       "      <td>893</td>\n",
       "      <td>3</td>\n",
       "      <td>1</td>\n",
       "      <td>47.0</td>\n",
       "      <td>7.0000</td>\n",
       "      <td>S</td>\n",
       "      <td>Mrs</td>\n",
       "    </tr>\n",
       "    <tr>\n",
       "      <th>2</th>\n",
       "      <td>894</td>\n",
       "      <td>2</td>\n",
       "      <td>0</td>\n",
       "      <td>62.0</td>\n",
       "      <td>9.6875</td>\n",
       "      <td>Q</td>\n",
       "      <td>Mr</td>\n",
       "    </tr>\n",
       "    <tr>\n",
       "      <th>3</th>\n",
       "      <td>895</td>\n",
       "      <td>3</td>\n",
       "      <td>0</td>\n",
       "      <td>27.0</td>\n",
       "      <td>8.6625</td>\n",
       "      <td>S</td>\n",
       "      <td>Mr</td>\n",
       "    </tr>\n",
       "    <tr>\n",
       "      <th>4</th>\n",
       "      <td>896</td>\n",
       "      <td>3</td>\n",
       "      <td>1</td>\n",
       "      <td>22.0</td>\n",
       "      <td>12.2875</td>\n",
       "      <td>S</td>\n",
       "      <td>Mrs</td>\n",
       "    </tr>\n",
       "  </tbody>\n",
       "</table>\n",
       "</div>"
      ],
      "text/plain": [
       "   PassengerId  Pclass  Sex   Age     Fare Embarked Title\n",
       "0          892       3    0  34.5   7.8292        Q    Mr\n",
       "1          893       3    1  47.0   7.0000        S   Mrs\n",
       "2          894       2    0  62.0   9.6875        Q    Mr\n",
       "3          895       3    0  27.0   8.6625        S    Mr\n",
       "4          896       3    1  22.0  12.2875        S   Mrs"
      ]
     },
     "execution_count": 27,
     "metadata": {},
     "output_type": "execute_result"
    }
   ],
   "source": [
    "test_split_df.head()"
   ]
  },
  {
   "cell_type": "markdown",
   "id": "controlling-sample",
   "metadata": {
    "papermill": {
     "duration": 0.061203,
     "end_time": "2021-06-11T05:30:34.912700",
     "exception": false,
     "start_time": "2021-06-11T05:30:34.851497",
     "status": "completed"
    },
    "tags": []
   },
   "source": [
    "## One-hot encoding for categorical features"
   ]
  },
  {
   "cell_type": "code",
   "execution_count": 28,
   "id": "detected-pricing",
   "metadata": {
    "execution": {
     "iopub.execute_input": "2021-06-11T05:30:35.041647Z",
     "iopub.status.busy": "2021-06-11T05:30:35.040972Z",
     "iopub.status.idle": "2021-06-11T05:30:35.043073Z",
     "shell.execute_reply": "2021-06-11T05:30:35.043547Z",
     "shell.execute_reply.started": "2021-06-11T04:14:46.755670Z"
    },
    "papermill": {
     "duration": 0.069755,
     "end_time": "2021-06-11T05:30:35.043736",
     "exception": false,
     "start_time": "2021-06-11T05:30:34.973981",
     "status": "completed"
    },
    "tags": []
   },
   "outputs": [],
   "source": [
    "# Function for one-hot\n",
    "def convert_one_hot(input_df, column_name):\n",
    "    one_hot = pd.get_dummies(input_df[column_name], prefix=column_name)\n",
    "    input_df = input_df.drop(column_name,axis = 1)\n",
    "    return input_df.join(one_hot)    "
   ]
  },
  {
   "cell_type": "code",
   "execution_count": 29,
   "id": "defined-future",
   "metadata": {
    "execution": {
     "iopub.execute_input": "2021-06-11T05:30:35.169489Z",
     "iopub.status.busy": "2021-06-11T05:30:35.168826Z",
     "iopub.status.idle": "2021-06-11T05:30:35.178016Z",
     "shell.execute_reply": "2021-06-11T05:30:35.178587Z",
     "shell.execute_reply.started": "2021-06-11T04:14:46.770832Z"
    },
    "papermill": {
     "duration": 0.073667,
     "end_time": "2021-06-11T05:30:35.178775",
     "exception": false,
     "start_time": "2021-06-11T05:30:35.105108",
     "status": "completed"
    },
    "tags": []
   },
   "outputs": [],
   "source": [
    "# One hot for Pclass\n",
    "train_split_df = convert_one_hot(train_split_df, \"Pclass\")\n",
    "test_split_df = convert_one_hot(test_split_df, \"Pclass\")"
   ]
  },
  {
   "cell_type": "code",
   "execution_count": 30,
   "id": "stylish-storm",
   "metadata": {
    "execution": {
     "iopub.execute_input": "2021-06-11T05:30:35.305788Z",
     "iopub.status.busy": "2021-06-11T05:30:35.305076Z",
     "iopub.status.idle": "2021-06-11T05:30:35.325196Z",
     "shell.execute_reply": "2021-06-11T05:30:35.324675Z",
     "shell.execute_reply.started": "2021-06-11T04:14:46.790294Z"
    },
    "papermill": {
     "duration": 0.08433,
     "end_time": "2021-06-11T05:30:35.325359",
     "exception": false,
     "start_time": "2021-06-11T05:30:35.241029",
     "status": "completed"
    },
    "tags": []
   },
   "outputs": [
    {
     "data": {
      "text/html": [
       "<div>\n",
       "<style scoped>\n",
       "    .dataframe tbody tr th:only-of-type {\n",
       "        vertical-align: middle;\n",
       "    }\n",
       "\n",
       "    .dataframe tbody tr th {\n",
       "        vertical-align: top;\n",
       "    }\n",
       "\n",
       "    .dataframe thead th {\n",
       "        text-align: right;\n",
       "    }\n",
       "</style>\n",
       "<table border=\"1\" class=\"dataframe\">\n",
       "  <thead>\n",
       "    <tr style=\"text-align: right;\">\n",
       "      <th></th>\n",
       "      <th>Survived</th>\n",
       "      <th>Sex</th>\n",
       "      <th>Age</th>\n",
       "      <th>Fare</th>\n",
       "      <th>Embarked</th>\n",
       "      <th>Title</th>\n",
       "      <th>Pclass_1</th>\n",
       "      <th>Pclass_2</th>\n",
       "      <th>Pclass_3</th>\n",
       "    </tr>\n",
       "  </thead>\n",
       "  <tbody>\n",
       "    <tr>\n",
       "      <th>0</th>\n",
       "      <td>0</td>\n",
       "      <td>0</td>\n",
       "      <td>22.000000</td>\n",
       "      <td>7.2500</td>\n",
       "      <td>S</td>\n",
       "      <td>Mr</td>\n",
       "      <td>0</td>\n",
       "      <td>0</td>\n",
       "      <td>1</td>\n",
       "    </tr>\n",
       "    <tr>\n",
       "      <th>1</th>\n",
       "      <td>1</td>\n",
       "      <td>1</td>\n",
       "      <td>38.000000</td>\n",
       "      <td>71.2833</td>\n",
       "      <td>C</td>\n",
       "      <td>Mrs</td>\n",
       "      <td>1</td>\n",
       "      <td>0</td>\n",
       "      <td>0</td>\n",
       "    </tr>\n",
       "    <tr>\n",
       "      <th>2</th>\n",
       "      <td>1</td>\n",
       "      <td>1</td>\n",
       "      <td>26.000000</td>\n",
       "      <td>7.9250</td>\n",
       "      <td>S</td>\n",
       "      <td>Miss</td>\n",
       "      <td>0</td>\n",
       "      <td>0</td>\n",
       "      <td>1</td>\n",
       "    </tr>\n",
       "    <tr>\n",
       "      <th>3</th>\n",
       "      <td>1</td>\n",
       "      <td>1</td>\n",
       "      <td>35.000000</td>\n",
       "      <td>53.1000</td>\n",
       "      <td>S</td>\n",
       "      <td>Mrs</td>\n",
       "      <td>1</td>\n",
       "      <td>0</td>\n",
       "      <td>0</td>\n",
       "    </tr>\n",
       "    <tr>\n",
       "      <th>4</th>\n",
       "      <td>0</td>\n",
       "      <td>0</td>\n",
       "      <td>35.000000</td>\n",
       "      <td>8.0500</td>\n",
       "      <td>S</td>\n",
       "      <td>Mr</td>\n",
       "      <td>0</td>\n",
       "      <td>0</td>\n",
       "      <td>1</td>\n",
       "    </tr>\n",
       "    <tr>\n",
       "      <th>...</th>\n",
       "      <td>...</td>\n",
       "      <td>...</td>\n",
       "      <td>...</td>\n",
       "      <td>...</td>\n",
       "      <td>...</td>\n",
       "      <td>...</td>\n",
       "      <td>...</td>\n",
       "      <td>...</td>\n",
       "      <td>...</td>\n",
       "    </tr>\n",
       "    <tr>\n",
       "      <th>886</th>\n",
       "      <td>0</td>\n",
       "      <td>0</td>\n",
       "      <td>27.000000</td>\n",
       "      <td>13.0000</td>\n",
       "      <td>S</td>\n",
       "      <td>Other</td>\n",
       "      <td>0</td>\n",
       "      <td>1</td>\n",
       "      <td>0</td>\n",
       "    </tr>\n",
       "    <tr>\n",
       "      <th>887</th>\n",
       "      <td>1</td>\n",
       "      <td>1</td>\n",
       "      <td>19.000000</td>\n",
       "      <td>30.0000</td>\n",
       "      <td>S</td>\n",
       "      <td>Miss</td>\n",
       "      <td>1</td>\n",
       "      <td>0</td>\n",
       "      <td>0</td>\n",
       "    </tr>\n",
       "    <tr>\n",
       "      <th>888</th>\n",
       "      <td>0</td>\n",
       "      <td>1</td>\n",
       "      <td>29.699118</td>\n",
       "      <td>23.4500</td>\n",
       "      <td>S</td>\n",
       "      <td>Miss</td>\n",
       "      <td>0</td>\n",
       "      <td>0</td>\n",
       "      <td>1</td>\n",
       "    </tr>\n",
       "    <tr>\n",
       "      <th>889</th>\n",
       "      <td>1</td>\n",
       "      <td>0</td>\n",
       "      <td>26.000000</td>\n",
       "      <td>30.0000</td>\n",
       "      <td>C</td>\n",
       "      <td>Mr</td>\n",
       "      <td>1</td>\n",
       "      <td>0</td>\n",
       "      <td>0</td>\n",
       "    </tr>\n",
       "    <tr>\n",
       "      <th>890</th>\n",
       "      <td>0</td>\n",
       "      <td>0</td>\n",
       "      <td>32.000000</td>\n",
       "      <td>7.7500</td>\n",
       "      <td>Q</td>\n",
       "      <td>Mr</td>\n",
       "      <td>0</td>\n",
       "      <td>0</td>\n",
       "      <td>1</td>\n",
       "    </tr>\n",
       "  </tbody>\n",
       "</table>\n",
       "<p>891 rows × 9 columns</p>\n",
       "</div>"
      ],
      "text/plain": [
       "     Survived  Sex        Age     Fare Embarked  Title  Pclass_1  Pclass_2  \\\n",
       "0           0    0  22.000000   7.2500        S     Mr         0         0   \n",
       "1           1    1  38.000000  71.2833        C    Mrs         1         0   \n",
       "2           1    1  26.000000   7.9250        S   Miss         0         0   \n",
       "3           1    1  35.000000  53.1000        S    Mrs         1         0   \n",
       "4           0    0  35.000000   8.0500        S     Mr         0         0   \n",
       "..        ...  ...        ...      ...      ...    ...       ...       ...   \n",
       "886         0    0  27.000000  13.0000        S  Other         0         1   \n",
       "887         1    1  19.000000  30.0000        S   Miss         1         0   \n",
       "888         0    1  29.699118  23.4500        S   Miss         0         0   \n",
       "889         1    0  26.000000  30.0000        C     Mr         1         0   \n",
       "890         0    0  32.000000   7.7500        Q     Mr         0         0   \n",
       "\n",
       "     Pclass_3  \n",
       "0           1  \n",
       "1           0  \n",
       "2           1  \n",
       "3           0  \n",
       "4           1  \n",
       "..        ...  \n",
       "886         0  \n",
       "887         0  \n",
       "888         1  \n",
       "889         0  \n",
       "890         1  \n",
       "\n",
       "[891 rows x 9 columns]"
      ]
     },
     "execution_count": 30,
     "metadata": {},
     "output_type": "execute_result"
    }
   ],
   "source": [
    "train_split_df"
   ]
  },
  {
   "cell_type": "code",
   "execution_count": 31,
   "id": "clear-delta",
   "metadata": {
    "execution": {
     "iopub.execute_input": "2021-06-11T05:30:35.458676Z",
     "iopub.status.busy": "2021-06-11T05:30:35.457939Z",
     "iopub.status.idle": "2021-06-11T05:30:35.462641Z",
     "shell.execute_reply": "2021-06-11T05:30:35.463147Z",
     "shell.execute_reply.started": "2021-06-11T04:14:46.819665Z"
    },
    "papermill": {
     "duration": 0.076445,
     "end_time": "2021-06-11T05:30:35.463335",
     "exception": false,
     "start_time": "2021-06-11T05:30:35.386890",
     "status": "completed"
    },
    "tags": []
   },
   "outputs": [],
   "source": [
    "# One hot for Title\n",
    "train_split_df = convert_one_hot(train_split_df, \"Title\")\n",
    "test_split_df = convert_one_hot(test_split_df, \"Title\")"
   ]
  },
  {
   "cell_type": "code",
   "execution_count": 32,
   "id": "retired-tamil",
   "metadata": {
    "execution": {
     "iopub.execute_input": "2021-06-11T05:30:35.591609Z",
     "iopub.status.busy": "2021-06-11T05:30:35.590953Z",
     "iopub.status.idle": "2021-06-11T05:30:35.611797Z",
     "shell.execute_reply": "2021-06-11T05:30:35.612334Z",
     "shell.execute_reply.started": "2021-06-11T04:14:46.833380Z"
    },
    "papermill": {
     "duration": 0.087207,
     "end_time": "2021-06-11T05:30:35.612509",
     "exception": false,
     "start_time": "2021-06-11T05:30:35.525302",
     "status": "completed"
    },
    "tags": []
   },
   "outputs": [
    {
     "data": {
      "text/html": [
       "<div>\n",
       "<style scoped>\n",
       "    .dataframe tbody tr th:only-of-type {\n",
       "        vertical-align: middle;\n",
       "    }\n",
       "\n",
       "    .dataframe tbody tr th {\n",
       "        vertical-align: top;\n",
       "    }\n",
       "\n",
       "    .dataframe thead th {\n",
       "        text-align: right;\n",
       "    }\n",
       "</style>\n",
       "<table border=\"1\" class=\"dataframe\">\n",
       "  <thead>\n",
       "    <tr style=\"text-align: right;\">\n",
       "      <th></th>\n",
       "      <th>Survived</th>\n",
       "      <th>Sex</th>\n",
       "      <th>Age</th>\n",
       "      <th>Fare</th>\n",
       "      <th>Embarked</th>\n",
       "      <th>Pclass_1</th>\n",
       "      <th>Pclass_2</th>\n",
       "      <th>Pclass_3</th>\n",
       "      <th>Title_Master</th>\n",
       "      <th>Title_Miss</th>\n",
       "      <th>Title_Mr</th>\n",
       "      <th>Title_Mrs</th>\n",
       "      <th>Title_Other</th>\n",
       "    </tr>\n",
       "  </thead>\n",
       "  <tbody>\n",
       "    <tr>\n",
       "      <th>0</th>\n",
       "      <td>0</td>\n",
       "      <td>0</td>\n",
       "      <td>22.000000</td>\n",
       "      <td>7.2500</td>\n",
       "      <td>S</td>\n",
       "      <td>0</td>\n",
       "      <td>0</td>\n",
       "      <td>1</td>\n",
       "      <td>0</td>\n",
       "      <td>0</td>\n",
       "      <td>1</td>\n",
       "      <td>0</td>\n",
       "      <td>0</td>\n",
       "    </tr>\n",
       "    <tr>\n",
       "      <th>1</th>\n",
       "      <td>1</td>\n",
       "      <td>1</td>\n",
       "      <td>38.000000</td>\n",
       "      <td>71.2833</td>\n",
       "      <td>C</td>\n",
       "      <td>1</td>\n",
       "      <td>0</td>\n",
       "      <td>0</td>\n",
       "      <td>0</td>\n",
       "      <td>0</td>\n",
       "      <td>0</td>\n",
       "      <td>1</td>\n",
       "      <td>0</td>\n",
       "    </tr>\n",
       "    <tr>\n",
       "      <th>2</th>\n",
       "      <td>1</td>\n",
       "      <td>1</td>\n",
       "      <td>26.000000</td>\n",
       "      <td>7.9250</td>\n",
       "      <td>S</td>\n",
       "      <td>0</td>\n",
       "      <td>0</td>\n",
       "      <td>1</td>\n",
       "      <td>0</td>\n",
       "      <td>1</td>\n",
       "      <td>0</td>\n",
       "      <td>0</td>\n",
       "      <td>0</td>\n",
       "    </tr>\n",
       "    <tr>\n",
       "      <th>3</th>\n",
       "      <td>1</td>\n",
       "      <td>1</td>\n",
       "      <td>35.000000</td>\n",
       "      <td>53.1000</td>\n",
       "      <td>S</td>\n",
       "      <td>1</td>\n",
       "      <td>0</td>\n",
       "      <td>0</td>\n",
       "      <td>0</td>\n",
       "      <td>0</td>\n",
       "      <td>0</td>\n",
       "      <td>1</td>\n",
       "      <td>0</td>\n",
       "    </tr>\n",
       "    <tr>\n",
       "      <th>4</th>\n",
       "      <td>0</td>\n",
       "      <td>0</td>\n",
       "      <td>35.000000</td>\n",
       "      <td>8.0500</td>\n",
       "      <td>S</td>\n",
       "      <td>0</td>\n",
       "      <td>0</td>\n",
       "      <td>1</td>\n",
       "      <td>0</td>\n",
       "      <td>0</td>\n",
       "      <td>1</td>\n",
       "      <td>0</td>\n",
       "      <td>0</td>\n",
       "    </tr>\n",
       "    <tr>\n",
       "      <th>...</th>\n",
       "      <td>...</td>\n",
       "      <td>...</td>\n",
       "      <td>...</td>\n",
       "      <td>...</td>\n",
       "      <td>...</td>\n",
       "      <td>...</td>\n",
       "      <td>...</td>\n",
       "      <td>...</td>\n",
       "      <td>...</td>\n",
       "      <td>...</td>\n",
       "      <td>...</td>\n",
       "      <td>...</td>\n",
       "      <td>...</td>\n",
       "    </tr>\n",
       "    <tr>\n",
       "      <th>886</th>\n",
       "      <td>0</td>\n",
       "      <td>0</td>\n",
       "      <td>27.000000</td>\n",
       "      <td>13.0000</td>\n",
       "      <td>S</td>\n",
       "      <td>0</td>\n",
       "      <td>1</td>\n",
       "      <td>0</td>\n",
       "      <td>0</td>\n",
       "      <td>0</td>\n",
       "      <td>0</td>\n",
       "      <td>0</td>\n",
       "      <td>1</td>\n",
       "    </tr>\n",
       "    <tr>\n",
       "      <th>887</th>\n",
       "      <td>1</td>\n",
       "      <td>1</td>\n",
       "      <td>19.000000</td>\n",
       "      <td>30.0000</td>\n",
       "      <td>S</td>\n",
       "      <td>1</td>\n",
       "      <td>0</td>\n",
       "      <td>0</td>\n",
       "      <td>0</td>\n",
       "      <td>1</td>\n",
       "      <td>0</td>\n",
       "      <td>0</td>\n",
       "      <td>0</td>\n",
       "    </tr>\n",
       "    <tr>\n",
       "      <th>888</th>\n",
       "      <td>0</td>\n",
       "      <td>1</td>\n",
       "      <td>29.699118</td>\n",
       "      <td>23.4500</td>\n",
       "      <td>S</td>\n",
       "      <td>0</td>\n",
       "      <td>0</td>\n",
       "      <td>1</td>\n",
       "      <td>0</td>\n",
       "      <td>1</td>\n",
       "      <td>0</td>\n",
       "      <td>0</td>\n",
       "      <td>0</td>\n",
       "    </tr>\n",
       "    <tr>\n",
       "      <th>889</th>\n",
       "      <td>1</td>\n",
       "      <td>0</td>\n",
       "      <td>26.000000</td>\n",
       "      <td>30.0000</td>\n",
       "      <td>C</td>\n",
       "      <td>1</td>\n",
       "      <td>0</td>\n",
       "      <td>0</td>\n",
       "      <td>0</td>\n",
       "      <td>0</td>\n",
       "      <td>1</td>\n",
       "      <td>0</td>\n",
       "      <td>0</td>\n",
       "    </tr>\n",
       "    <tr>\n",
       "      <th>890</th>\n",
       "      <td>0</td>\n",
       "      <td>0</td>\n",
       "      <td>32.000000</td>\n",
       "      <td>7.7500</td>\n",
       "      <td>Q</td>\n",
       "      <td>0</td>\n",
       "      <td>0</td>\n",
       "      <td>1</td>\n",
       "      <td>0</td>\n",
       "      <td>0</td>\n",
       "      <td>1</td>\n",
       "      <td>0</td>\n",
       "      <td>0</td>\n",
       "    </tr>\n",
       "  </tbody>\n",
       "</table>\n",
       "<p>891 rows × 13 columns</p>\n",
       "</div>"
      ],
      "text/plain": [
       "     Survived  Sex        Age     Fare Embarked  Pclass_1  Pclass_2  Pclass_3  \\\n",
       "0           0    0  22.000000   7.2500        S         0         0         1   \n",
       "1           1    1  38.000000  71.2833        C         1         0         0   \n",
       "2           1    1  26.000000   7.9250        S         0         0         1   \n",
       "3           1    1  35.000000  53.1000        S         1         0         0   \n",
       "4           0    0  35.000000   8.0500        S         0         0         1   \n",
       "..        ...  ...        ...      ...      ...       ...       ...       ...   \n",
       "886         0    0  27.000000  13.0000        S         0         1         0   \n",
       "887         1    1  19.000000  30.0000        S         1         0         0   \n",
       "888         0    1  29.699118  23.4500        S         0         0         1   \n",
       "889         1    0  26.000000  30.0000        C         1         0         0   \n",
       "890         0    0  32.000000   7.7500        Q         0         0         1   \n",
       "\n",
       "     Title_Master  Title_Miss  Title_Mr  Title_Mrs  Title_Other  \n",
       "0               0           0         1          0            0  \n",
       "1               0           0         0          1            0  \n",
       "2               0           1         0          0            0  \n",
       "3               0           0         0          1            0  \n",
       "4               0           0         1          0            0  \n",
       "..            ...         ...       ...        ...          ...  \n",
       "886             0           0         0          0            1  \n",
       "887             0           1         0          0            0  \n",
       "888             0           1         0          0            0  \n",
       "889             0           0         1          0            0  \n",
       "890             0           0         1          0            0  \n",
       "\n",
       "[891 rows x 13 columns]"
      ]
     },
     "execution_count": 32,
     "metadata": {},
     "output_type": "execute_result"
    }
   ],
   "source": [
    "train_split_df"
   ]
  },
  {
   "cell_type": "code",
   "execution_count": 33,
   "id": "prostate-natural",
   "metadata": {
    "execution": {
     "iopub.execute_input": "2021-06-11T05:30:35.740387Z",
     "iopub.status.busy": "2021-06-11T05:30:35.739712Z",
     "iopub.status.idle": "2021-06-11T05:30:35.750826Z",
     "shell.execute_reply": "2021-06-11T05:30:35.750152Z",
     "shell.execute_reply.started": "2021-06-11T04:14:46.861778Z"
    },
    "papermill": {
     "duration": 0.076044,
     "end_time": "2021-06-11T05:30:35.750965",
     "exception": false,
     "start_time": "2021-06-11T05:30:35.674921",
     "status": "completed"
    },
    "tags": []
   },
   "outputs": [],
   "source": [
    "# One hot for Title\n",
    "train_split_df = convert_one_hot(train_split_df, \"Embarked\")\n",
    "test_split_df = convert_one_hot(test_split_df, \"Embarked\")"
   ]
  },
  {
   "cell_type": "code",
   "execution_count": 34,
   "id": "agricultural-knitting",
   "metadata": {
    "execution": {
     "iopub.execute_input": "2021-06-11T05:30:35.882889Z",
     "iopub.status.busy": "2021-06-11T05:30:35.881923Z",
     "iopub.status.idle": "2021-06-11T05:30:35.904758Z",
     "shell.execute_reply": "2021-06-11T05:30:35.905329Z",
     "shell.execute_reply.started": "2021-06-11T04:14:46.878152Z"
    },
    "papermill": {
     "duration": 0.090431,
     "end_time": "2021-06-11T05:30:35.905516",
     "exception": false,
     "start_time": "2021-06-11T05:30:35.815085",
     "status": "completed"
    },
    "tags": []
   },
   "outputs": [
    {
     "data": {
      "text/html": [
       "<div>\n",
       "<style scoped>\n",
       "    .dataframe tbody tr th:only-of-type {\n",
       "        vertical-align: middle;\n",
       "    }\n",
       "\n",
       "    .dataframe tbody tr th {\n",
       "        vertical-align: top;\n",
       "    }\n",
       "\n",
       "    .dataframe thead th {\n",
       "        text-align: right;\n",
       "    }\n",
       "</style>\n",
       "<table border=\"1\" class=\"dataframe\">\n",
       "  <thead>\n",
       "    <tr style=\"text-align: right;\">\n",
       "      <th></th>\n",
       "      <th>Survived</th>\n",
       "      <th>Sex</th>\n",
       "      <th>Age</th>\n",
       "      <th>Fare</th>\n",
       "      <th>Pclass_1</th>\n",
       "      <th>Pclass_2</th>\n",
       "      <th>Pclass_3</th>\n",
       "      <th>Title_Master</th>\n",
       "      <th>Title_Miss</th>\n",
       "      <th>Title_Mr</th>\n",
       "      <th>Title_Mrs</th>\n",
       "      <th>Title_Other</th>\n",
       "      <th>Embarked_C</th>\n",
       "      <th>Embarked_Q</th>\n",
       "      <th>Embarked_S</th>\n",
       "    </tr>\n",
       "  </thead>\n",
       "  <tbody>\n",
       "    <tr>\n",
       "      <th>0</th>\n",
       "      <td>0</td>\n",
       "      <td>0</td>\n",
       "      <td>22.000000</td>\n",
       "      <td>7.2500</td>\n",
       "      <td>0</td>\n",
       "      <td>0</td>\n",
       "      <td>1</td>\n",
       "      <td>0</td>\n",
       "      <td>0</td>\n",
       "      <td>1</td>\n",
       "      <td>0</td>\n",
       "      <td>0</td>\n",
       "      <td>0</td>\n",
       "      <td>0</td>\n",
       "      <td>1</td>\n",
       "    </tr>\n",
       "    <tr>\n",
       "      <th>1</th>\n",
       "      <td>1</td>\n",
       "      <td>1</td>\n",
       "      <td>38.000000</td>\n",
       "      <td>71.2833</td>\n",
       "      <td>1</td>\n",
       "      <td>0</td>\n",
       "      <td>0</td>\n",
       "      <td>0</td>\n",
       "      <td>0</td>\n",
       "      <td>0</td>\n",
       "      <td>1</td>\n",
       "      <td>0</td>\n",
       "      <td>1</td>\n",
       "      <td>0</td>\n",
       "      <td>0</td>\n",
       "    </tr>\n",
       "    <tr>\n",
       "      <th>2</th>\n",
       "      <td>1</td>\n",
       "      <td>1</td>\n",
       "      <td>26.000000</td>\n",
       "      <td>7.9250</td>\n",
       "      <td>0</td>\n",
       "      <td>0</td>\n",
       "      <td>1</td>\n",
       "      <td>0</td>\n",
       "      <td>1</td>\n",
       "      <td>0</td>\n",
       "      <td>0</td>\n",
       "      <td>0</td>\n",
       "      <td>0</td>\n",
       "      <td>0</td>\n",
       "      <td>1</td>\n",
       "    </tr>\n",
       "    <tr>\n",
       "      <th>3</th>\n",
       "      <td>1</td>\n",
       "      <td>1</td>\n",
       "      <td>35.000000</td>\n",
       "      <td>53.1000</td>\n",
       "      <td>1</td>\n",
       "      <td>0</td>\n",
       "      <td>0</td>\n",
       "      <td>0</td>\n",
       "      <td>0</td>\n",
       "      <td>0</td>\n",
       "      <td>1</td>\n",
       "      <td>0</td>\n",
       "      <td>0</td>\n",
       "      <td>0</td>\n",
       "      <td>1</td>\n",
       "    </tr>\n",
       "    <tr>\n",
       "      <th>4</th>\n",
       "      <td>0</td>\n",
       "      <td>0</td>\n",
       "      <td>35.000000</td>\n",
       "      <td>8.0500</td>\n",
       "      <td>0</td>\n",
       "      <td>0</td>\n",
       "      <td>1</td>\n",
       "      <td>0</td>\n",
       "      <td>0</td>\n",
       "      <td>1</td>\n",
       "      <td>0</td>\n",
       "      <td>0</td>\n",
       "      <td>0</td>\n",
       "      <td>0</td>\n",
       "      <td>1</td>\n",
       "    </tr>\n",
       "    <tr>\n",
       "      <th>...</th>\n",
       "      <td>...</td>\n",
       "      <td>...</td>\n",
       "      <td>...</td>\n",
       "      <td>...</td>\n",
       "      <td>...</td>\n",
       "      <td>...</td>\n",
       "      <td>...</td>\n",
       "      <td>...</td>\n",
       "      <td>...</td>\n",
       "      <td>...</td>\n",
       "      <td>...</td>\n",
       "      <td>...</td>\n",
       "      <td>...</td>\n",
       "      <td>...</td>\n",
       "      <td>...</td>\n",
       "    </tr>\n",
       "    <tr>\n",
       "      <th>886</th>\n",
       "      <td>0</td>\n",
       "      <td>0</td>\n",
       "      <td>27.000000</td>\n",
       "      <td>13.0000</td>\n",
       "      <td>0</td>\n",
       "      <td>1</td>\n",
       "      <td>0</td>\n",
       "      <td>0</td>\n",
       "      <td>0</td>\n",
       "      <td>0</td>\n",
       "      <td>0</td>\n",
       "      <td>1</td>\n",
       "      <td>0</td>\n",
       "      <td>0</td>\n",
       "      <td>1</td>\n",
       "    </tr>\n",
       "    <tr>\n",
       "      <th>887</th>\n",
       "      <td>1</td>\n",
       "      <td>1</td>\n",
       "      <td>19.000000</td>\n",
       "      <td>30.0000</td>\n",
       "      <td>1</td>\n",
       "      <td>0</td>\n",
       "      <td>0</td>\n",
       "      <td>0</td>\n",
       "      <td>1</td>\n",
       "      <td>0</td>\n",
       "      <td>0</td>\n",
       "      <td>0</td>\n",
       "      <td>0</td>\n",
       "      <td>0</td>\n",
       "      <td>1</td>\n",
       "    </tr>\n",
       "    <tr>\n",
       "      <th>888</th>\n",
       "      <td>0</td>\n",
       "      <td>1</td>\n",
       "      <td>29.699118</td>\n",
       "      <td>23.4500</td>\n",
       "      <td>0</td>\n",
       "      <td>0</td>\n",
       "      <td>1</td>\n",
       "      <td>0</td>\n",
       "      <td>1</td>\n",
       "      <td>0</td>\n",
       "      <td>0</td>\n",
       "      <td>0</td>\n",
       "      <td>0</td>\n",
       "      <td>0</td>\n",
       "      <td>1</td>\n",
       "    </tr>\n",
       "    <tr>\n",
       "      <th>889</th>\n",
       "      <td>1</td>\n",
       "      <td>0</td>\n",
       "      <td>26.000000</td>\n",
       "      <td>30.0000</td>\n",
       "      <td>1</td>\n",
       "      <td>0</td>\n",
       "      <td>0</td>\n",
       "      <td>0</td>\n",
       "      <td>0</td>\n",
       "      <td>1</td>\n",
       "      <td>0</td>\n",
       "      <td>0</td>\n",
       "      <td>1</td>\n",
       "      <td>0</td>\n",
       "      <td>0</td>\n",
       "    </tr>\n",
       "    <tr>\n",
       "      <th>890</th>\n",
       "      <td>0</td>\n",
       "      <td>0</td>\n",
       "      <td>32.000000</td>\n",
       "      <td>7.7500</td>\n",
       "      <td>0</td>\n",
       "      <td>0</td>\n",
       "      <td>1</td>\n",
       "      <td>0</td>\n",
       "      <td>0</td>\n",
       "      <td>1</td>\n",
       "      <td>0</td>\n",
       "      <td>0</td>\n",
       "      <td>0</td>\n",
       "      <td>1</td>\n",
       "      <td>0</td>\n",
       "    </tr>\n",
       "  </tbody>\n",
       "</table>\n",
       "<p>891 rows × 15 columns</p>\n",
       "</div>"
      ],
      "text/plain": [
       "     Survived  Sex        Age     Fare  Pclass_1  Pclass_2  Pclass_3  \\\n",
       "0           0    0  22.000000   7.2500         0         0         1   \n",
       "1           1    1  38.000000  71.2833         1         0         0   \n",
       "2           1    1  26.000000   7.9250         0         0         1   \n",
       "3           1    1  35.000000  53.1000         1         0         0   \n",
       "4           0    0  35.000000   8.0500         0         0         1   \n",
       "..        ...  ...        ...      ...       ...       ...       ...   \n",
       "886         0    0  27.000000  13.0000         0         1         0   \n",
       "887         1    1  19.000000  30.0000         1         0         0   \n",
       "888         0    1  29.699118  23.4500         0         0         1   \n",
       "889         1    0  26.000000  30.0000         1         0         0   \n",
       "890         0    0  32.000000   7.7500         0         0         1   \n",
       "\n",
       "     Title_Master  Title_Miss  Title_Mr  Title_Mrs  Title_Other  Embarked_C  \\\n",
       "0               0           0         1          0            0           0   \n",
       "1               0           0         0          1            0           1   \n",
       "2               0           1         0          0            0           0   \n",
       "3               0           0         0          1            0           0   \n",
       "4               0           0         1          0            0           0   \n",
       "..            ...         ...       ...        ...          ...         ...   \n",
       "886             0           0         0          0            1           0   \n",
       "887             0           1         0          0            0           0   \n",
       "888             0           1         0          0            0           0   \n",
       "889             0           0         1          0            0           1   \n",
       "890             0           0         1          0            0           0   \n",
       "\n",
       "     Embarked_Q  Embarked_S  \n",
       "0             0           1  \n",
       "1             0           0  \n",
       "2             0           1  \n",
       "3             0           1  \n",
       "4             0           1  \n",
       "..          ...         ...  \n",
       "886           0           1  \n",
       "887           0           1  \n",
       "888           0           1  \n",
       "889           0           0  \n",
       "890           1           0  \n",
       "\n",
       "[891 rows x 15 columns]"
      ]
     },
     "execution_count": 34,
     "metadata": {},
     "output_type": "execute_result"
    }
   ],
   "source": [
    "train_split_df"
   ]
  },
  {
   "cell_type": "code",
   "execution_count": 35,
   "id": "electric-variety",
   "metadata": {
    "execution": {
     "iopub.execute_input": "2021-06-11T05:30:36.041892Z",
     "iopub.status.busy": "2021-06-11T05:30:36.040922Z",
     "iopub.status.idle": "2021-06-11T05:30:36.063751Z",
     "shell.execute_reply": "2021-06-11T05:30:36.064299Z",
     "shell.execute_reply.started": "2021-06-11T04:14:46.911742Z"
    },
    "papermill": {
     "duration": 0.090033,
     "end_time": "2021-06-11T05:30:36.064500",
     "exception": false,
     "start_time": "2021-06-11T05:30:35.974467",
     "status": "completed"
    },
    "tags": []
   },
   "outputs": [
    {
     "data": {
      "text/html": [
       "<div>\n",
       "<style scoped>\n",
       "    .dataframe tbody tr th:only-of-type {\n",
       "        vertical-align: middle;\n",
       "    }\n",
       "\n",
       "    .dataframe tbody tr th {\n",
       "        vertical-align: top;\n",
       "    }\n",
       "\n",
       "    .dataframe thead th {\n",
       "        text-align: right;\n",
       "    }\n",
       "</style>\n",
       "<table border=\"1\" class=\"dataframe\">\n",
       "  <thead>\n",
       "    <tr style=\"text-align: right;\">\n",
       "      <th></th>\n",
       "      <th>PassengerId</th>\n",
       "      <th>Sex</th>\n",
       "      <th>Age</th>\n",
       "      <th>Fare</th>\n",
       "      <th>Pclass_1</th>\n",
       "      <th>Pclass_2</th>\n",
       "      <th>Pclass_3</th>\n",
       "      <th>Title_Master</th>\n",
       "      <th>Title_Miss</th>\n",
       "      <th>Title_Mr</th>\n",
       "      <th>Title_Mrs</th>\n",
       "      <th>Title_Other</th>\n",
       "      <th>Embarked_C</th>\n",
       "      <th>Embarked_Q</th>\n",
       "      <th>Embarked_S</th>\n",
       "    </tr>\n",
       "  </thead>\n",
       "  <tbody>\n",
       "    <tr>\n",
       "      <th>0</th>\n",
       "      <td>892</td>\n",
       "      <td>0</td>\n",
       "      <td>34.50000</td>\n",
       "      <td>7.8292</td>\n",
       "      <td>0</td>\n",
       "      <td>0</td>\n",
       "      <td>1</td>\n",
       "      <td>0</td>\n",
       "      <td>0</td>\n",
       "      <td>1</td>\n",
       "      <td>0</td>\n",
       "      <td>0</td>\n",
       "      <td>0</td>\n",
       "      <td>1</td>\n",
       "      <td>0</td>\n",
       "    </tr>\n",
       "    <tr>\n",
       "      <th>1</th>\n",
       "      <td>893</td>\n",
       "      <td>1</td>\n",
       "      <td>47.00000</td>\n",
       "      <td>7.0000</td>\n",
       "      <td>0</td>\n",
       "      <td>0</td>\n",
       "      <td>1</td>\n",
       "      <td>0</td>\n",
       "      <td>0</td>\n",
       "      <td>0</td>\n",
       "      <td>1</td>\n",
       "      <td>0</td>\n",
       "      <td>0</td>\n",
       "      <td>0</td>\n",
       "      <td>1</td>\n",
       "    </tr>\n",
       "    <tr>\n",
       "      <th>2</th>\n",
       "      <td>894</td>\n",
       "      <td>0</td>\n",
       "      <td>62.00000</td>\n",
       "      <td>9.6875</td>\n",
       "      <td>0</td>\n",
       "      <td>1</td>\n",
       "      <td>0</td>\n",
       "      <td>0</td>\n",
       "      <td>0</td>\n",
       "      <td>1</td>\n",
       "      <td>0</td>\n",
       "      <td>0</td>\n",
       "      <td>0</td>\n",
       "      <td>1</td>\n",
       "      <td>0</td>\n",
       "    </tr>\n",
       "    <tr>\n",
       "      <th>3</th>\n",
       "      <td>895</td>\n",
       "      <td>0</td>\n",
       "      <td>27.00000</td>\n",
       "      <td>8.6625</td>\n",
       "      <td>0</td>\n",
       "      <td>0</td>\n",
       "      <td>1</td>\n",
       "      <td>0</td>\n",
       "      <td>0</td>\n",
       "      <td>1</td>\n",
       "      <td>0</td>\n",
       "      <td>0</td>\n",
       "      <td>0</td>\n",
       "      <td>0</td>\n",
       "      <td>1</td>\n",
       "    </tr>\n",
       "    <tr>\n",
       "      <th>4</th>\n",
       "      <td>896</td>\n",
       "      <td>1</td>\n",
       "      <td>22.00000</td>\n",
       "      <td>12.2875</td>\n",
       "      <td>0</td>\n",
       "      <td>0</td>\n",
       "      <td>1</td>\n",
       "      <td>0</td>\n",
       "      <td>0</td>\n",
       "      <td>0</td>\n",
       "      <td>1</td>\n",
       "      <td>0</td>\n",
       "      <td>0</td>\n",
       "      <td>0</td>\n",
       "      <td>1</td>\n",
       "    </tr>\n",
       "    <tr>\n",
       "      <th>...</th>\n",
       "      <td>...</td>\n",
       "      <td>...</td>\n",
       "      <td>...</td>\n",
       "      <td>...</td>\n",
       "      <td>...</td>\n",
       "      <td>...</td>\n",
       "      <td>...</td>\n",
       "      <td>...</td>\n",
       "      <td>...</td>\n",
       "      <td>...</td>\n",
       "      <td>...</td>\n",
       "      <td>...</td>\n",
       "      <td>...</td>\n",
       "      <td>...</td>\n",
       "      <td>...</td>\n",
       "    </tr>\n",
       "    <tr>\n",
       "      <th>413</th>\n",
       "      <td>1305</td>\n",
       "      <td>0</td>\n",
       "      <td>30.27259</td>\n",
       "      <td>8.0500</td>\n",
       "      <td>0</td>\n",
       "      <td>0</td>\n",
       "      <td>1</td>\n",
       "      <td>0</td>\n",
       "      <td>0</td>\n",
       "      <td>1</td>\n",
       "      <td>0</td>\n",
       "      <td>0</td>\n",
       "      <td>0</td>\n",
       "      <td>0</td>\n",
       "      <td>1</td>\n",
       "    </tr>\n",
       "    <tr>\n",
       "      <th>414</th>\n",
       "      <td>1306</td>\n",
       "      <td>1</td>\n",
       "      <td>39.00000</td>\n",
       "      <td>108.9000</td>\n",
       "      <td>1</td>\n",
       "      <td>0</td>\n",
       "      <td>0</td>\n",
       "      <td>0</td>\n",
       "      <td>0</td>\n",
       "      <td>0</td>\n",
       "      <td>0</td>\n",
       "      <td>1</td>\n",
       "      <td>1</td>\n",
       "      <td>0</td>\n",
       "      <td>0</td>\n",
       "    </tr>\n",
       "    <tr>\n",
       "      <th>415</th>\n",
       "      <td>1307</td>\n",
       "      <td>0</td>\n",
       "      <td>38.50000</td>\n",
       "      <td>7.2500</td>\n",
       "      <td>0</td>\n",
       "      <td>0</td>\n",
       "      <td>1</td>\n",
       "      <td>0</td>\n",
       "      <td>0</td>\n",
       "      <td>1</td>\n",
       "      <td>0</td>\n",
       "      <td>0</td>\n",
       "      <td>0</td>\n",
       "      <td>0</td>\n",
       "      <td>1</td>\n",
       "    </tr>\n",
       "    <tr>\n",
       "      <th>416</th>\n",
       "      <td>1308</td>\n",
       "      <td>0</td>\n",
       "      <td>30.27259</td>\n",
       "      <td>8.0500</td>\n",
       "      <td>0</td>\n",
       "      <td>0</td>\n",
       "      <td>1</td>\n",
       "      <td>0</td>\n",
       "      <td>0</td>\n",
       "      <td>1</td>\n",
       "      <td>0</td>\n",
       "      <td>0</td>\n",
       "      <td>0</td>\n",
       "      <td>0</td>\n",
       "      <td>1</td>\n",
       "    </tr>\n",
       "    <tr>\n",
       "      <th>417</th>\n",
       "      <td>1309</td>\n",
       "      <td>0</td>\n",
       "      <td>30.27259</td>\n",
       "      <td>22.3583</td>\n",
       "      <td>0</td>\n",
       "      <td>0</td>\n",
       "      <td>1</td>\n",
       "      <td>1</td>\n",
       "      <td>0</td>\n",
       "      <td>0</td>\n",
       "      <td>0</td>\n",
       "      <td>0</td>\n",
       "      <td>1</td>\n",
       "      <td>0</td>\n",
       "      <td>0</td>\n",
       "    </tr>\n",
       "  </tbody>\n",
       "</table>\n",
       "<p>418 rows × 15 columns</p>\n",
       "</div>"
      ],
      "text/plain": [
       "     PassengerId  Sex       Age      Fare  Pclass_1  Pclass_2  Pclass_3  \\\n",
       "0            892    0  34.50000    7.8292         0         0         1   \n",
       "1            893    1  47.00000    7.0000         0         0         1   \n",
       "2            894    0  62.00000    9.6875         0         1         0   \n",
       "3            895    0  27.00000    8.6625         0         0         1   \n",
       "4            896    1  22.00000   12.2875         0         0         1   \n",
       "..           ...  ...       ...       ...       ...       ...       ...   \n",
       "413         1305    0  30.27259    8.0500         0         0         1   \n",
       "414         1306    1  39.00000  108.9000         1         0         0   \n",
       "415         1307    0  38.50000    7.2500         0         0         1   \n",
       "416         1308    0  30.27259    8.0500         0         0         1   \n",
       "417         1309    0  30.27259   22.3583         0         0         1   \n",
       "\n",
       "     Title_Master  Title_Miss  Title_Mr  Title_Mrs  Title_Other  Embarked_C  \\\n",
       "0               0           0         1          0            0           0   \n",
       "1               0           0         0          1            0           0   \n",
       "2               0           0         1          0            0           0   \n",
       "3               0           0         1          0            0           0   \n",
       "4               0           0         0          1            0           0   \n",
       "..            ...         ...       ...        ...          ...         ...   \n",
       "413             0           0         1          0            0           0   \n",
       "414             0           0         0          0            1           1   \n",
       "415             0           0         1          0            0           0   \n",
       "416             0           0         1          0            0           0   \n",
       "417             1           0         0          0            0           1   \n",
       "\n",
       "     Embarked_Q  Embarked_S  \n",
       "0             1           0  \n",
       "1             0           1  \n",
       "2             1           0  \n",
       "3             0           1  \n",
       "4             0           1  \n",
       "..          ...         ...  \n",
       "413           0           1  \n",
       "414           0           0  \n",
       "415           0           1  \n",
       "416           0           1  \n",
       "417           0           0  \n",
       "\n",
       "[418 rows x 15 columns]"
      ]
     },
     "execution_count": 35,
     "metadata": {},
     "output_type": "execute_result"
    }
   ],
   "source": [
    "test_split_df"
   ]
  },
  {
   "cell_type": "code",
   "execution_count": 36,
   "id": "alleged-mailman",
   "metadata": {
    "execution": {
     "iopub.execute_input": "2021-06-11T05:30:36.204614Z",
     "iopub.status.busy": "2021-06-11T05:30:36.203530Z",
     "iopub.status.idle": "2021-06-11T05:30:36.208764Z",
     "shell.execute_reply": "2021-06-11T05:30:36.209257Z",
     "shell.execute_reply.started": "2021-06-11T04:14:46.944399Z"
    },
    "papermill": {
     "duration": 0.074352,
     "end_time": "2021-06-11T05:30:36.209448",
     "exception": false,
     "start_time": "2021-06-11T05:30:36.135096",
     "status": "completed"
    },
    "tags": []
   },
   "outputs": [],
   "source": [
    "test_split_df['Fare'].fillna((test_split_df['Fare'].mean()), inplace=True)"
   ]
  },
  {
   "cell_type": "markdown",
   "id": "amended-courage",
   "metadata": {
    "papermill": {
     "duration": 0.064983,
     "end_time": "2021-06-11T05:30:36.338914",
     "exception": false,
     "start_time": "2021-06-11T05:30:36.273931",
     "status": "completed"
    },
    "tags": []
   },
   "source": [
    "## Test Split Informations"
   ]
  },
  {
   "cell_type": "code",
   "execution_count": 37,
   "id": "mighty-pension",
   "metadata": {
    "execution": {
     "iopub.execute_input": "2021-06-11T05:30:36.473799Z",
     "iopub.status.busy": "2021-06-11T05:30:36.472800Z",
     "iopub.status.idle": "2021-06-11T05:30:36.488759Z",
     "shell.execute_reply": "2021-06-11T05:30:36.488036Z",
     "shell.execute_reply.started": "2021-06-11T04:14:46.951280Z"
    },
    "papermill": {
     "duration": 0.083993,
     "end_time": "2021-06-11T05:30:36.488915",
     "exception": false,
     "start_time": "2021-06-11T05:30:36.404922",
     "status": "completed"
    },
    "tags": []
   },
   "outputs": [
    {
     "name": "stdout",
     "output_type": "stream",
     "text": [
      "<class 'pandas.core.frame.DataFrame'>\n",
      "RangeIndex: 418 entries, 0 to 417\n",
      "Data columns (total 15 columns):\n",
      " #   Column        Non-Null Count  Dtype  \n",
      "---  ------        --------------  -----  \n",
      " 0   PassengerId   418 non-null    int64  \n",
      " 1   Sex           418 non-null    int64  \n",
      " 2   Age           418 non-null    float64\n",
      " 3   Fare          418 non-null    float64\n",
      " 4   Pclass_1      418 non-null    uint8  \n",
      " 5   Pclass_2      418 non-null    uint8  \n",
      " 6   Pclass_3      418 non-null    uint8  \n",
      " 7   Title_Master  418 non-null    uint8  \n",
      " 8   Title_Miss    418 non-null    uint8  \n",
      " 9   Title_Mr      418 non-null    uint8  \n",
      " 10  Title_Mrs     418 non-null    uint8  \n",
      " 11  Title_Other   418 non-null    uint8  \n",
      " 12  Embarked_C    418 non-null    uint8  \n",
      " 13  Embarked_Q    418 non-null    uint8  \n",
      " 14  Embarked_S    418 non-null    uint8  \n",
      "dtypes: float64(2), int64(2), uint8(11)\n",
      "memory usage: 17.7 KB\n"
     ]
    }
   ],
   "source": [
    "test_split_df.info()"
   ]
  },
  {
   "cell_type": "markdown",
   "id": "motivated-sugar",
   "metadata": {
    "papermill": {
     "duration": 0.064414,
     "end_time": "2021-06-11T05:30:36.623648",
     "exception": false,
     "start_time": "2021-06-11T05:30:36.559234",
     "status": "completed"
    },
    "tags": []
   },
   "source": [
    "# Model Training"
   ]
  },
  {
   "cell_type": "markdown",
   "id": "stylish-jacket",
   "metadata": {
    "papermill": {
     "duration": 0.07096,
     "end_time": "2021-06-11T05:30:36.760849",
     "exception": false,
     "start_time": "2021-06-11T05:30:36.689889",
     "status": "completed"
    },
    "tags": []
   },
   "source": [
    "## Split definition"
   ]
  },
  {
   "cell_type": "code",
   "execution_count": 38,
   "id": "instructional-tumor",
   "metadata": {
    "execution": {
     "iopub.execute_input": "2021-06-11T05:30:36.894370Z",
     "iopub.status.busy": "2021-06-11T05:30:36.893420Z",
     "iopub.status.idle": "2021-06-11T05:30:36.897142Z",
     "shell.execute_reply": "2021-06-11T05:30:36.896610Z",
     "shell.execute_reply.started": "2021-06-11T04:14:46.976309Z"
    },
    "papermill": {
     "duration": 0.07209,
     "end_time": "2021-06-11T05:30:36.897292",
     "exception": false,
     "start_time": "2021-06-11T05:30:36.825202",
     "status": "completed"
    },
    "tags": []
   },
   "outputs": [],
   "source": [
    "validation_split = 0.1"
   ]
  },
  {
   "cell_type": "code",
   "execution_count": 39,
   "id": "suspected-superintendent",
   "metadata": {
    "execution": {
     "iopub.execute_input": "2021-06-11T05:30:37.032417Z",
     "iopub.status.busy": "2021-06-11T05:30:37.031714Z",
     "iopub.status.idle": "2021-06-11T05:30:37.035217Z",
     "shell.execute_reply": "2021-06-11T05:30:37.034703Z",
     "shell.execute_reply.started": "2021-06-11T04:14:46.984491Z"
    },
    "papermill": {
     "duration": 0.072584,
     "end_time": "2021-06-11T05:30:37.035385",
     "exception": false,
     "start_time": "2021-06-11T05:30:36.962801",
     "status": "completed"
    },
    "tags": []
   },
   "outputs": [],
   "source": [
    "validation_split = 0.1\n",
    "valid_index = int(len(train_split_df)*validation_split)"
   ]
  },
  {
   "cell_type": "code",
   "execution_count": 40,
   "id": "abroad-haiti",
   "metadata": {
    "execution": {
     "iopub.execute_input": "2021-06-11T05:30:37.179123Z",
     "iopub.status.busy": "2021-06-11T05:30:37.178460Z",
     "iopub.status.idle": "2021-06-11T05:30:37.183039Z",
     "shell.execute_reply": "2021-06-11T05:30:37.182417Z",
     "shell.execute_reply.started": "2021-06-11T04:14:46.996492Z"
    },
    "papermill": {
     "duration": 0.082927,
     "end_time": "2021-06-11T05:30:37.183178",
     "exception": false,
     "start_time": "2021-06-11T05:30:37.100251",
     "status": "completed"
    },
    "tags": []
   },
   "outputs": [
    {
     "data": {
      "text/plain": [
       "((802, 14), (802,), (89, 14), (89,), (418, 14))"
      ]
     },
     "execution_count": 40,
     "metadata": {},
     "output_type": "execute_result"
    }
   ],
   "source": [
    "# Train set\n",
    "X_train = train_split_df[valid_index:].drop(\"Survived\", axis=1)\n",
    "Y_train = train_split_df[valid_index:][\"Survived\"]\n",
    "\n",
    "# Validation set\n",
    "X_valid = train_split_df[0:valid_index].drop(\"Survived\", axis=1)\n",
    "Y_valid = train_split_df[0:valid_index][\"Survived\"]\n",
    "\n",
    "# Test set\n",
    "X_test  = test_split_df.drop(\"PassengerId\", axis=1).copy()\n",
    "\n",
    "X_train.shape, Y_train.shape, X_valid.shape, Y_valid.shape, X_test.shape"
   ]
  },
  {
   "cell_type": "markdown",
   "id": "loaded-health",
   "metadata": {
    "papermill": {
     "duration": 0.064121,
     "end_time": "2021-06-11T05:30:37.312543",
     "exception": false,
     "start_time": "2021-06-11T05:30:37.248422",
     "status": "completed"
    },
    "tags": []
   },
   "source": [
    "## Model 1: Random Forest"
   ]
  },
  {
   "cell_type": "code",
   "execution_count": 41,
   "id": "legendary-palestinian",
   "metadata": {
    "execution": {
     "iopub.execute_input": "2021-06-11T05:30:37.460729Z",
     "iopub.status.busy": "2021-06-11T05:30:37.452514Z",
     "iopub.status.idle": "2021-06-11T05:30:45.314604Z",
     "shell.execute_reply": "2021-06-11T05:30:45.314000Z",
     "shell.execute_reply.started": "2021-06-11T04:14:47.021143Z"
    },
    "papermill": {
     "duration": 7.937793,
     "end_time": "2021-06-11T05:30:45.314759",
     "exception": false,
     "start_time": "2021-06-11T05:30:37.376966",
     "status": "completed"
    },
    "tags": []
   },
   "outputs": [
    {
     "name": "stderr",
     "output_type": "stream",
     "text": [
      "[Parallel(n_jobs=1)]: Using backend SequentialBackend with 1 concurrent workers.\n",
      "[Parallel(n_jobs=1)]: Done 4000 out of 4000 | elapsed:    5.9s finished\n"
     ]
    },
    {
     "data": {
      "text/plain": [
       "RandomForestClassifier(max_depth=5, n_estimators=4000, verbose=1)"
      ]
     },
     "execution_count": 41,
     "metadata": {},
     "output_type": "execute_result"
    }
   ],
   "source": [
    "random_forest = RandomForestClassifier(n_estimators=4000, \n",
    "                                       max_depth=5,\n",
    "                                       verbose=1)\n",
    "random_forest.fit(X_train, Y_train)"
   ]
  },
  {
   "cell_type": "code",
   "execution_count": 42,
   "id": "occupational-pleasure",
   "metadata": {
    "execution": {
     "iopub.execute_input": "2021-06-11T05:30:45.449225Z",
     "iopub.status.busy": "2021-06-11T05:30:45.448236Z",
     "iopub.status.idle": "2021-06-11T05:30:46.555763Z",
     "shell.execute_reply": "2021-06-11T05:30:46.556477Z",
     "shell.execute_reply.started": "2021-06-11T04:14:54.968125Z"
    },
    "papermill": {
     "duration": 1.176176,
     "end_time": "2021-06-11T05:30:46.556702",
     "exception": false,
     "start_time": "2021-06-11T05:30:45.380526",
     "status": "completed"
    },
    "tags": []
   },
   "outputs": [
    {
     "name": "stderr",
     "output_type": "stream",
     "text": [
      "[Parallel(n_jobs=1)]: Using backend SequentialBackend with 1 concurrent workers.\n",
      "[Parallel(n_jobs=1)]: Done 4000 out of 4000 | elapsed:    0.7s finished\n",
      "[Parallel(n_jobs=1)]: Using backend SequentialBackend with 1 concurrent workers.\n"
     ]
    },
    {
     "name": "stdout",
     "output_type": "stream",
     "text": [
      "Train Accuracy :  85.66\n",
      "Valid Accuracy :  82.02\n"
     ]
    },
    {
     "name": "stderr",
     "output_type": "stream",
     "text": [
      "[Parallel(n_jobs=1)]: Done 4000 out of 4000 | elapsed:    0.4s finished\n"
     ]
    }
   ],
   "source": [
    "print(\"Train Accuracy : \",round(random_forest.score(X_train, Y_train) *100, 2))\n",
    "print(\"Valid Accuracy : \", round(random_forest.score(X_valid, Y_valid) * 100, 2))"
   ]
  },
  {
   "cell_type": "code",
   "execution_count": 43,
   "id": "noticed-piano",
   "metadata": {
    "execution": {
     "iopub.execute_input": "2021-06-11T05:30:46.700162Z",
     "iopub.status.busy": "2021-06-11T05:30:46.699504Z",
     "iopub.status.idle": "2021-06-11T05:30:47.246763Z",
     "shell.execute_reply": "2021-06-11T05:30:47.247273Z",
     "shell.execute_reply.started": "2021-06-11T04:14:56.219815Z"
    },
    "papermill": {
     "duration": 0.623234,
     "end_time": "2021-06-11T05:30:47.247461",
     "exception": false,
     "start_time": "2021-06-11T05:30:46.624227",
     "status": "completed"
    },
    "tags": []
   },
   "outputs": [
    {
     "name": "stderr",
     "output_type": "stream",
     "text": [
      "[Parallel(n_jobs=1)]: Using backend SequentialBackend with 1 concurrent workers.\n",
      "[Parallel(n_jobs=1)]: Done 4000 out of 4000 | elapsed:    0.5s finished\n"
     ]
    }
   ],
   "source": [
    "Y_pred_0 = random_forest.predict(X_test)"
   ]
  },
  {
   "cell_type": "code",
   "execution_count": null,
   "id": "stretch-timber",
   "metadata": {
    "papermill": {
     "duration": 0.066876,
     "end_time": "2021-06-11T05:30:47.381461",
     "exception": false,
     "start_time": "2021-06-11T05:30:47.314585",
     "status": "completed"
    },
    "tags": []
   },
   "outputs": [],
   "source": []
  },
  {
   "cell_type": "markdown",
   "id": "greek-pitch",
   "metadata": {
    "papermill": {
     "duration": 0.068636,
     "end_time": "2021-06-11T05:30:47.518415",
     "exception": false,
     "start_time": "2021-06-11T05:30:47.449779",
     "status": "completed"
    },
    "tags": []
   },
   "source": [
    "## Model 2: Decision Tree"
   ]
  },
  {
   "cell_type": "code",
   "execution_count": 44,
   "id": "civilian-parking",
   "metadata": {
    "execution": {
     "iopub.execute_input": "2021-06-11T05:30:47.662538Z",
     "iopub.status.busy": "2021-06-11T05:30:47.661552Z",
     "iopub.status.idle": "2021-06-11T05:30:47.667997Z",
     "shell.execute_reply": "2021-06-11T05:30:47.668616Z",
     "shell.execute_reply.started": "2021-06-11T04:14:56.766385Z"
    },
    "papermill": {
     "duration": 0.081673,
     "end_time": "2021-06-11T05:30:47.668789",
     "exception": false,
     "start_time": "2021-06-11T05:30:47.587116",
     "status": "completed"
    },
    "tags": []
   },
   "outputs": [
    {
     "data": {
      "text/plain": [
       "DecisionTreeClassifier(max_depth=3)"
      ]
     },
     "execution_count": 44,
     "metadata": {},
     "output_type": "execute_result"
    }
   ],
   "source": [
    "decision_tree = DecisionTreeClassifier(max_depth=3)\n",
    "decision_tree.fit(X_train, Y_train)"
   ]
  },
  {
   "cell_type": "code",
   "execution_count": 45,
   "id": "fabulous-worth",
   "metadata": {
    "execution": {
     "iopub.execute_input": "2021-06-11T05:30:47.808483Z",
     "iopub.status.busy": "2021-06-11T05:30:47.807800Z",
     "iopub.status.idle": "2021-06-11T05:30:47.819947Z",
     "shell.execute_reply": "2021-06-11T05:30:47.819286Z",
     "shell.execute_reply.started": "2021-06-11T04:14:56.778224Z"
    },
    "papermill": {
     "duration": 0.082636,
     "end_time": "2021-06-11T05:30:47.820085",
     "exception": false,
     "start_time": "2021-06-11T05:30:47.737449",
     "status": "completed"
    },
    "tags": []
   },
   "outputs": [
    {
     "name": "stdout",
     "output_type": "stream",
     "text": [
      "Train Accuracy :  83.92\n",
      "Valid Accuracy :  82.02\n"
     ]
    }
   ],
   "source": [
    "print(\"Train Accuracy : \",round(decision_tree.score(X_train, Y_train) *100, 2))\n",
    "print(\"Valid Accuracy : \", round(decision_tree.score(X_valid, Y_valid) * 100, 2))"
   ]
  },
  {
   "cell_type": "code",
   "execution_count": 46,
   "id": "removed-integrity",
   "metadata": {
    "execution": {
     "iopub.execute_input": "2021-06-11T05:30:47.963211Z",
     "iopub.status.busy": "2021-06-11T05:30:47.962512Z",
     "iopub.status.idle": "2021-06-11T05:30:47.969244Z",
     "shell.execute_reply": "2021-06-11T05:30:47.969794Z",
     "shell.execute_reply.started": "2021-06-11T04:14:56.795186Z"
    },
    "papermill": {
     "duration": 0.080198,
     "end_time": "2021-06-11T05:30:47.969967",
     "exception": false,
     "start_time": "2021-06-11T05:30:47.889769",
     "status": "completed"
    },
    "tags": []
   },
   "outputs": [],
   "source": [
    "Y_pred_1 = decision_tree.predict(X_test)"
   ]
  },
  {
   "cell_type": "code",
   "execution_count": null,
   "id": "corresponding-kazakhstan",
   "metadata": {
    "papermill": {
     "duration": 0.06797,
     "end_time": "2021-06-11T05:30:48.107435",
     "exception": false,
     "start_time": "2021-06-11T05:30:48.039465",
     "status": "completed"
    },
    "tags": []
   },
   "outputs": [],
   "source": []
  },
  {
   "cell_type": "markdown",
   "id": "vulnerable-supplement",
   "metadata": {
    "papermill": {
     "duration": 0.067856,
     "end_time": "2021-06-11T05:30:48.244800",
     "exception": false,
     "start_time": "2021-06-11T05:30:48.176944",
     "status": "completed"
    },
    "tags": []
   },
   "source": [
    "## Model 3: XGBClassifier"
   ]
  },
  {
   "cell_type": "code",
   "execution_count": 47,
   "id": "quiet-joining",
   "metadata": {
    "execution": {
     "iopub.execute_input": "2021-06-11T05:30:48.388017Z",
     "iopub.status.busy": "2021-06-11T05:30:48.387371Z",
     "iopub.status.idle": "2021-06-11T05:30:48.391540Z",
     "shell.execute_reply": "2021-06-11T05:30:48.392029Z",
     "shell.execute_reply.started": "2021-06-11T04:14:56.803552Z"
    },
    "papermill": {
     "duration": 0.07865,
     "end_time": "2021-06-11T05:30:48.392205",
     "exception": false,
     "start_time": "2021-06-11T05:30:48.313555",
     "status": "completed"
    },
    "tags": []
   },
   "outputs": [],
   "source": [
    "xgb = XGBClassifier(base_score=0.5, booster='gbtree', colsample_bylevel=1,\n",
    "              colsample_bynode=1, colsample_bytree=1, gamma=0, gpu_id=-1,\n",
    "              importance_type='gain',\n",
    "              learning_rate=0.1, max_delta_step=0, max_depth=2,\n",
    "              min_child_weight=1, n_estimators=400, n_jobs=5, num_parallel_tree=2,\n",
    "              tree_method='exact', validate_parameters=1, verbosity=1)"
   ]
  },
  {
   "cell_type": "code",
   "execution_count": 48,
   "id": "consolidated-excellence",
   "metadata": {
    "execution": {
     "iopub.execute_input": "2021-06-11T05:30:48.532086Z",
     "iopub.status.busy": "2021-06-11T05:30:48.531455Z",
     "iopub.status.idle": "2021-06-11T05:30:49.223295Z",
     "shell.execute_reply": "2021-06-11T05:30:49.222723Z",
     "shell.execute_reply.started": "2021-06-11T04:14:56.818682Z"
    },
    "papermill": {
     "duration": 0.762361,
     "end_time": "2021-06-11T05:30:49.223461",
     "exception": false,
     "start_time": "2021-06-11T05:30:48.461100",
     "status": "completed"
    },
    "tags": []
   },
   "outputs": [
    {
     "name": "stderr",
     "output_type": "stream",
     "text": [
      "/opt/conda/lib/python3.7/site-packages/xgboost/sklearn.py:1146: UserWarning: The use of label encoder in XGBClassifier is deprecated and will be removed in a future release. To remove this warning, do the following: 1) Pass option use_label_encoder=False when constructing XGBClassifier object; and 2) Encode your labels (y) as integers starting with 0, i.e. 0, 1, 2, ..., [num_class - 1].\n",
      "  warnings.warn(label_encoder_deprecation_msg, UserWarning)\n"
     ]
    },
    {
     "name": "stdout",
     "output_type": "stream",
     "text": [
      "[05:30:48] WARNING: ../src/learner.cc:1095: Starting in XGBoost 1.3.0, the default evaluation metric used with the objective 'binary:logistic' was changed from 'error' to 'logloss'. Explicitly set eval_metric if you'd like to restore the old behavior.\n"
     ]
    },
    {
     "data": {
      "text/plain": [
       "XGBClassifier(base_score=0.5, booster='gbtree', colsample_bylevel=1,\n",
       "              colsample_bynode=1, colsample_bytree=1, gamma=0, gpu_id=-1,\n",
       "              importance_type='gain', interaction_constraints='',\n",
       "              learning_rate=0.1, max_delta_step=0, max_depth=2,\n",
       "              min_child_weight=1, missing=nan, monotone_constraints='()',\n",
       "              n_estimators=400, n_jobs=5, num_parallel_tree=2, random_state=0,\n",
       "              reg_alpha=0, reg_lambda=1, scale_pos_weight=1, subsample=1,\n",
       "              tree_method='exact', validate_parameters=1, verbosity=1)"
      ]
     },
     "execution_count": 48,
     "metadata": {},
     "output_type": "execute_result"
    }
   ],
   "source": [
    "xgb.fit(X_train, Y_train)"
   ]
  },
  {
   "cell_type": "code",
   "execution_count": 49,
   "id": "official-anaheim",
   "metadata": {
    "execution": {
     "iopub.execute_input": "2021-06-11T05:30:49.368849Z",
     "iopub.status.busy": "2021-06-11T05:30:49.368128Z",
     "iopub.status.idle": "2021-06-11T05:30:49.385041Z",
     "shell.execute_reply": "2021-06-11T05:30:49.385577Z",
     "shell.execute_reply.started": "2021-06-11T04:14:57.487537Z"
    },
    "papermill": {
     "duration": 0.092815,
     "end_time": "2021-06-11T05:30:49.385762",
     "exception": false,
     "start_time": "2021-06-11T05:30:49.292947",
     "status": "completed"
    },
    "tags": []
   },
   "outputs": [
    {
     "name": "stdout",
     "output_type": "stream",
     "text": [
      "Train Accuracy :  90.27\n",
      "Valid Accuracy :  84.27\n"
     ]
    },
    {
     "name": "stderr",
     "output_type": "stream",
     "text": [
      "/opt/conda/lib/python3.7/site-packages/xgboost/data.py:114: UserWarning: Use subset (sliced data) of np.ndarray is not recommended because it will generate extra copies and increase memory consumption\n",
      "  \"because it will generate extra copies and increase \" +\n",
      "/opt/conda/lib/python3.7/site-packages/xgboost/data.py:114: UserWarning: Use subset (sliced data) of np.ndarray is not recommended because it will generate extra copies and increase memory consumption\n",
      "  \"because it will generate extra copies and increase \" +\n"
     ]
    }
   ],
   "source": [
    "print(\"Train Accuracy : \",round(xgb.score(X_train, Y_train) *100, 2))\n",
    "print(\"Valid Accuracy : \", round(xgb.score(X_valid, Y_valid) * 100, 2))"
   ]
  },
  {
   "cell_type": "code",
   "execution_count": 50,
   "id": "worst-sydney",
   "metadata": {
    "execution": {
     "iopub.execute_input": "2021-06-11T05:30:49.533888Z",
     "iopub.status.busy": "2021-06-11T05:30:49.532940Z",
     "iopub.status.idle": "2021-06-11T05:30:49.540604Z",
     "shell.execute_reply": "2021-06-11T05:30:49.541356Z",
     "shell.execute_reply.started": "2021-06-11T04:14:57.504684Z"
    },
    "papermill": {
     "duration": 0.08356,
     "end_time": "2021-06-11T05:30:49.541586",
     "exception": false,
     "start_time": "2021-06-11T05:30:49.458026",
     "status": "completed"
    },
    "tags": []
   },
   "outputs": [
    {
     "name": "stderr",
     "output_type": "stream",
     "text": [
      "/opt/conda/lib/python3.7/site-packages/xgboost/data.py:114: UserWarning: Use subset (sliced data) of np.ndarray is not recommended because it will generate extra copies and increase memory consumption\n",
      "  \"because it will generate extra copies and increase \" +\n"
     ]
    }
   ],
   "source": [
    "Y_pred_2 = xgb.predict(X_test)"
   ]
  },
  {
   "cell_type": "markdown",
   "id": "caring-terminal",
   "metadata": {
    "papermill": {
     "duration": 0.069686,
     "end_time": "2021-06-11T05:30:49.682019",
     "exception": false,
     "start_time": "2021-06-11T05:30:49.612333",
     "status": "completed"
    },
    "tags": []
   },
   "source": [
    "# Final Submission"
   ]
  },
  {
   "cell_type": "code",
   "execution_count": 51,
   "id": "collect-animal",
   "metadata": {
    "execution": {
     "iopub.execute_input": "2021-06-11T05:30:49.830198Z",
     "iopub.status.busy": "2021-06-11T05:30:49.829242Z",
     "iopub.status.idle": "2021-06-11T05:30:49.832604Z",
     "shell.execute_reply": "2021-06-11T05:30:49.831965Z",
     "shell.execute_reply.started": "2021-06-11T04:14:57.514478Z"
    },
    "papermill": {
     "duration": 0.079051,
     "end_time": "2021-06-11T05:30:49.832747",
     "exception": false,
     "start_time": "2021-06-11T05:30:49.753696",
     "status": "completed"
    },
    "tags": []
   },
   "outputs": [],
   "source": [
    "#Y_pred = np.round(np.mean([Y_pred_0, Y_pred_1, Y_pred_2], axis=0),0).astype(int)\n",
    "Y_pred = np.mean([Y_pred_0, Y_pred_1, Y_pred_2], axis=0).astype(int)"
   ]
  },
  {
   "cell_type": "code",
   "execution_count": 52,
   "id": "usual-recovery",
   "metadata": {
    "execution": {
     "iopub.execute_input": "2021-06-11T05:30:49.980485Z",
     "iopub.status.busy": "2021-06-11T05:30:49.979536Z",
     "iopub.status.idle": "2021-06-11T05:30:49.982714Z",
     "shell.execute_reply": "2021-06-11T05:30:49.982088Z",
     "shell.execute_reply.started": "2021-06-11T04:14:57.522549Z"
    },
    "papermill": {
     "duration": 0.080182,
     "end_time": "2021-06-11T05:30:49.982856",
     "exception": false,
     "start_time": "2021-06-11T05:30:49.902674",
     "status": "completed"
    },
    "tags": []
   },
   "outputs": [],
   "source": [
    "submission = pd.DataFrame({\n",
    "        \"PassengerId\": test_split_df[\"PassengerId\"],\n",
    "        \"Survived\": Y_pred\n",
    "})"
   ]
  },
  {
   "cell_type": "code",
   "execution_count": 53,
   "id": "noted-council",
   "metadata": {
    "execution": {
     "iopub.execute_input": "2021-06-11T05:30:50.130477Z",
     "iopub.status.busy": "2021-06-11T05:30:50.129483Z",
     "iopub.status.idle": "2021-06-11T05:30:50.136035Z",
     "shell.execute_reply": "2021-06-11T05:30:50.136538Z",
     "shell.execute_reply.started": "2021-06-11T04:14:57.535043Z"
    },
    "papermill": {
     "duration": 0.082233,
     "end_time": "2021-06-11T05:30:50.136747",
     "exception": false,
     "start_time": "2021-06-11T05:30:50.054514",
     "status": "completed"
    },
    "tags": []
   },
   "outputs": [],
   "source": [
    "submission.to_csv('./submission.csv', index=False)"
   ]
  },
  {
   "cell_type": "markdown",
   "id": "rising-lottery",
   "metadata": {
    "papermill": {
     "duration": 0.069303,
     "end_time": "2021-06-11T05:30:50.276237",
     "exception": false,
     "start_time": "2021-06-11T05:30:50.206934",
     "status": "completed"
    },
    "tags": []
   },
   "source": [
    "# References\n",
    "* https://www.kaggle.com/alexisbcook/titanic-tutorial\n",
    "* https://www.youtube.com/watch?v=8yZMXCaFshs"
   ]
  },
  {
   "cell_type": "code",
   "execution_count": null,
   "id": "finite-challenge",
   "metadata": {
    "papermill": {
     "duration": 0.070144,
     "end_time": "2021-06-11T05:30:50.415938",
     "exception": false,
     "start_time": "2021-06-11T05:30:50.345794",
     "status": "completed"
    },
    "tags": []
   },
   "outputs": [],
   "source": []
  },
  {
   "cell_type": "code",
   "execution_count": null,
   "id": "sunset-declaration",
   "metadata": {
    "papermill": {
     "duration": 0.070144,
     "end_time": "2021-06-11T05:30:50.556857",
     "exception": false,
     "start_time": "2021-06-11T05:30:50.486713",
     "status": "completed"
    },
    "tags": []
   },
   "outputs": [],
   "source": []
  },
  {
   "cell_type": "code",
   "execution_count": null,
   "id": "essential-isaac",
   "metadata": {
    "papermill": {
     "duration": 0.069581,
     "end_time": "2021-06-11T05:30:50.696383",
     "exception": false,
     "start_time": "2021-06-11T05:30:50.626802",
     "status": "completed"
    },
    "tags": []
   },
   "outputs": [],
   "source": []
  }
 ],
 "metadata": {
  "kernelspec": {
   "display_name": "Python 3",
   "language": "python",
   "name": "python3"
  },
  "language_info": {
   "codemirror_mode": {
    "name": "ipython",
    "version": 3
   },
   "file_extension": ".py",
   "mimetype": "text/x-python",
   "name": "python",
   "nbconvert_exporter": "python",
   "pygments_lexer": "ipython3",
   "version": "3.7.10"
  },
  "papermill": {
   "default_parameters": {},
   "duration": 33.037542,
   "end_time": "2021-06-11T05:30:52.464032",
   "environment_variables": {},
   "exception": null,
   "input_path": "__notebook__.ipynb",
   "output_path": "__notebook__.ipynb",
   "parameters": {},
   "start_time": "2021-06-11T05:30:19.426490",
   "version": "2.3.3"
  }
 },
 "nbformat": 4,
 "nbformat_minor": 5
}
